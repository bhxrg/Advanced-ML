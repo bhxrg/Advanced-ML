{
 "cells": [
  {
   "cell_type": "markdown",
   "id": "8f2ba0fd",
   "metadata": {},
   "source": [
    "## Face recognition execution "
   ]
  },
  {
   "cell_type": "code",
   "execution_count": null,
   "id": "b1ef2513",
   "metadata": {},
   "outputs": [],
   "source": [
    "import cv2\n",
    "import os\n",
    "\n",
    "import numpy as np\n",
    "import matplotlib.pyplot as plt\n",
    "import scipy\n",
    "\n",
    "from numpy import pi\n",
    "from numpy import sin\n",
    "from numpy import zeros\n",
    "from numpy import r_\n",
    "from scipy import signal\n",
    "from scipy import misc\n",
    "import matplotlib.pylab as pylab\n"
   ]
  },
  {
   "cell_type": "code",
   "execution_count": null,
   "id": "f2c96155",
   "metadata": {},
   "outputs": [],
   "source": [
    "cascPath = \"C:\\\\Python\\\\Python37\\\\Lib\\\\site-packages\\\\cv2\\\\data\\\\haarcascade_frontalface_default.xml\"\n",
    "eyePath = \"C:\\\\Python\\\\Python37\\\\Lib\\\\site-packages\\\\cv2\\\\data\\\\haarcascade_eye.xml\"\n",
    "smilePath = \"C:\\\\Python\\\\Python37\\\\Lib\\\\site-packages\\\\cv2\\\\data\\\\haarcascade_smile.xml\" \n",
    "faceCascade = cv2.CascadeClassifier(cascPath)\n",
    "eyeCascade = cv2.CascadeClassifier(eyePath)\n",
    "smileCascade = cv2.CascadeClassifier(smilePath)\n",
    "font = cv2.FONT_HERSHEY_SIMPLEX\n"
   ]
  },
  {
   "cell_type": "code",
   "execution_count": null,
   "id": "e11ee9a0",
   "metadata": {},
   "outputs": [],
   "source": [
    "gray=cv2.imread('C:\\\\Users\\\\prasanna\\\\OneDrive\\\\Desktop\\\\5thsem\\\\det_img.jpg',0)\n",
    "plt.imshow(gray,cmap='gray')\n",
    "plt.figure(figsize=(8, 6))\n",
    "plt.show()"
   ]
  },
  {
   "cell_type": "code",
   "execution_count": null,
   "id": "976dfc70",
   "metadata": {},
   "outputs": [],
   "source": [
    "#detect faces\n",
    "faces=faceCascade.detectMultiScale(gray,scaleFactor=1.1,minNeighbors=5,flags=cv2.CASCADE_SCALE_IMAGE)\n",
    "\n",
    "#for each face\n",
    "for (x,y,w,h) in faces:\n",
    "    #draw rectangle around the face\n",
    "    cv2.rectangle(gray,(x,y),(x+w,y+h),(255,255,255),3)"
   ]
  },
  {
   "cell_type": "code",
   "execution_count": null,
   "id": "17b9c18e",
   "metadata": {},
   "outputs": [],
   "source": [
    "plt.imshow(gray,cmap='gray')\n",
    "plt.figure(figsize=(8, 6))\n",
    "plt.show()"
   ]
  },
  {
   "cell_type": "code",
   "execution_count": null,
   "id": "6bbfd904",
   "metadata": {},
   "outputs": [],
   "source": [
    "\n",
    "plt.imshow(gray,cmap='gray')\n",
    "plt.figure(figsize=(8, 6))\n",
    "plt.show()"
   ]
  },
  {
   "cell_type": "code",
   "execution_count": null,
   "id": "329dff3e",
   "metadata": {},
   "outputs": [],
   "source": [
    "#detect faces\n",
    "faces=faceCascade.detectMultiScale(gray,scaleFactor=1.1,minNeighbors=5,flags=cv2.CASCADE_SCALE_IMAGE)\n",
    "\n",
    "#for each face\n",
    "for (x,y,w,h) in faces:\n",
    "    #draw rectangle around the face\n",
    "    cv2.rectangle(gray,(x,y),(x+w,y+h),(255,255,255),3)\n",
    "    \n",
    "plt.imshow(gray,cmap='gray')\n",
    "plt.figure(figsize=(8, 6))\n",
    "plt.show()"
   ]
  },
  {
   "cell_type": "code",
   "execution_count": null,
   "id": "8ace2eed",
   "metadata": {},
   "outputs": [],
   "source": [
    "\n",
    "plt.imshow(gray,cmap='gray')\n",
    "plt.figure(figsize=(8, 6))\n",
    "plt.show()"
   ]
  },
  {
   "cell_type": "code",
   "execution_count": null,
   "id": "4e0b9a85",
   "metadata": {},
   "outputs": [],
   "source": [
    "#detect faces\n",
    "faces=faceCascade.detectMultiScale(gray,scaleFactor=1.1,minNeighbors=5,flags=cv2.CASCADE_SCALE_IMAGE)\n",
    "\n",
    "#for each face\n",
    "for (x,y,w,h) in faces:\n",
    "    #draw rectangle around the face\n",
    "    cv2.rectangle(gray,(x,y),(x+w,y+h),(255,255,255),3)\n",
    "    \n",
    "plt.imshow(gray,cmap='gray')\n",
    "plt.figure(figsize=(8, 6))\n",
    "plt.show()"
   ]
  },
  {
   "cell_type": "code",
   "execution_count": null,
   "id": "b576bdc5",
   "metadata": {},
   "outputs": [],
   "source": [
    "\n",
    "plt.imshow(gray,cmap='gray')\n",
    "plt.figure(figsize=(8, 6))\n",
    "plt.show()"
   ]
  },
  {
   "cell_type": "code",
   "execution_count": null,
   "id": "5b3c1ff3",
   "metadata": {},
   "outputs": [],
   "source": [
    "#detect faces\n",
    "faces=faceCascade.detectMultiScale(gray,scaleFactor=1.1,minNeighbors=5,flags=cv2.CASCADE_SCALE_IMAGE)\n",
    "\n",
    "#for each face\n",
    "for (x,y,w,h) in faces:\n",
    "    #draw rectangle around the face\n",
    "    cv2.rectangle(gray,(x,y),(x+w,y+h),(255,255,255),3)\n",
    "    \n",
    "plt.imshow(gray,cmap='gray')\n",
    "plt.figure(figsize=(8, 6))\n",
    "plt.show()\n",
    "\n",
    "# detects only one face that is frontal face as were using frontal face cascade\n"
   ]
  },
  {
   "cell_type": "code",
   "execution_count": null,
   "id": "517492ea",
   "metadata": {},
   "outputs": [],
   "source": [
    "#face detection\n",
    "faces=faceCascade.detectMultiScale(gray,scaleFactor=1.1,minNeighbors=5,minSize=(30,30),flags=cv2.CASCADE_SCALE_IMAGE)\n",
    "\n",
    "for (x,y,w,h) in faces:\n",
    "    if w>250:\n",
    "        cv2.rectangle(frame,(x,y),(x+w,y+h),(255,255,255),3)\n",
    "        roi_gray=gray[y:y+h,x:x+w]\n",
    "        roi_color=frame[y:y+h,x:x+w]"
   ]
  },
  {
   "cell_type": "code",
   "execution_count": null,
   "id": "536515ab",
   "metadata": {},
   "outputs": [],
   "source": [
    "#smile detection\n",
    "smile=smileCascade.detectMultiScale(roi_gray,scaleFactor=1.16,minNeighbors=35,minSize=(25,25),flags=cv2.CASCADE_SCALE_IMAGE)\n",
    "\n",
    "for (sx,sy,sw,sh) in smile:\n",
    "    cv2.rectangle(roi_color,(sh,sy),(sx+sw,sy+sh),(255,0,0),2)\n",
    "    cv2.putText(frame,'Smile',(x+sx,y+sy),1,1,(0,255,0),1)"
   ]
  },
  {
   "cell_type": "code",
   "execution_count": null,
   "id": "5c7b5df8",
   "metadata": {},
   "outputs": [],
   "source": [
    "#eye detection\n",
    "eyes=eyeCascade.detectMultiScale(roi_gray)\n",
    "\n",
    "for (ex,ey,ew,eh) in eyes:\n",
    "    cv2.rectangle(roi_color,(ex,ey),(ex+ew,ey+eh),(0,255,0),2)\n",
    "    cv2.putText(frame,'Eye',(x+ex,y+ey),1,1,(0,255,0),1)\n",
    "    "
   ]
  },
  {
   "cell_type": "code",
   "execution_count": null,
   "id": "3fba3a4a",
   "metadata": {},
   "outputs": [],
   "source": [
    "#count total number of faces\n",
    "cv2.putText(frame,'Number of Faces:' + str(len(faces)),(40,40),font,1,(255,0,0),2)\n",
    "\n",
    "#display resulting frame\n",
    "cv2.imshow('Video',frame)"
   ]
  },
  {
   "cell_type": "code",
   "execution_count": null,
   "id": "8844bd93",
   "metadata": {},
   "outputs": [],
   "source": [
    "if cv2.waitKey(1) & 0xFF == ord('q'):\n",
    "    break"
   ]
  },
  {
   "cell_type": "code",
   "execution_count": null,
   "id": "42d3de2d",
   "metadata": {},
   "outputs": [],
   "source": [
    "video_capture.release()\n",
    "cv2.destroyAllWindows()"
   ]
  },
  {
   "cell_type": "code",
   "execution_count": null,
   "id": "3a06c80b",
   "metadata": {},
   "outputs": [],
   "source": [
    "import cv2\n",
    "cap=cv2.VideoCapture(0, cv2.CAP_MSMF)\n",
    "\n",
    "while True:\n",
    "    ret,frame = cap.read()\n",
    "    \n",
    "    if ret == False:\n",
    "        continue\n",
    "    \n",
    "    cv2.imshow(\"video frame\",frame)\n",
    "    \n",
    "    key_pressed = cv2.waitKey(1) & 0xFF\n",
    "    \n",
    "    if key_pressed == ord('q'):\n",
    "        break\n",
    "    \n",
    "cap.release()\n",
    "cv2.destroyAllWindows()"
   ]
  },
  {
   "cell_type": "code",
   "execution_count": null,
   "id": "57e8e659",
   "metadata": {},
   "outputs": [],
   "source": []
  }
 ],
 "metadata": {
  "kernelspec": {
   "display_name": "Python 3 (ipykernel)",
   "language": "python",
   "name": "python3"
  },
  "language_info": {
   "codemirror_mode": {
    "name": "ipython",
    "version": 3
   },
   "file_extension": ".py",
   "mimetype": "text/x-python",
   "name": "python",
   "nbconvert_exporter": "python",
   "pygments_lexer": "ipython3",
   "version": "3.11.5"
  }
 },
 "nbformat": 4,
 "nbformat_minor": 5
}
