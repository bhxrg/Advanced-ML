{
 "cells": [
  {
   "cell_type": "markdown",
   "metadata": {
    "id": "rBvFDQry6UBF"
   },
   "source": [
    "## Twitter Sentiment Analysis"
   ]
  },
  {
   "cell_type": "code",
   "execution_count": 1,
   "metadata": {
    "execution": {
     "iopub.execute_input": "2023-08-28T17:42:25.949912Z",
     "iopub.status.busy": "2023-08-28T17:42:25.949204Z",
     "iopub.status.idle": "2023-08-28T17:47:54.887171Z",
     "shell.execute_reply": "2023-08-28T17:47:54.885782Z",
     "shell.execute_reply.started": "2023-08-28T17:42:25.949782Z"
    },
    "id": "Ry2g7d1i1P6f",
    "outputId": "e7b76645-8846-4dfe-df2c-cce558132e52"
   },
   "outputs": [
    {
     "name": "stdout",
     "output_type": "stream",
     "text": [
      "NLTK Downloader\n",
      "---------------------------------------------------------------------------\n",
      "    d) Download   l) List    u) Update   c) Config   h) Help   q) Quit\n",
      "---------------------------------------------------------------------------\n"
     ]
    },
    {
     "name": "stdin",
     "output_type": "stream",
     "text": [
      "Downloader>  d\n"
     ]
    },
    {
     "name": "stdout",
     "output_type": "stream",
     "text": [
      "\n",
      "Download which package (l=list; x=cancel)?\n"
     ]
    },
    {
     "name": "stdin",
     "output_type": "stream",
     "text": [
      "  Identifier>  l\n"
     ]
    },
    {
     "name": "stdout",
     "output_type": "stream",
     "text": [
      "Packages:\n",
      "Error connecting to server: [Errno -3] Temporary failure in name resolution\n",
      "\n",
      "---------------------------------------------------------------------------\n",
      "    d) Download   l) List    u) Update   c) Config   h) Help   q) Quit\n",
      "---------------------------------------------------------------------------\n"
     ]
    },
    {
     "name": "stdin",
     "output_type": "stream",
     "text": [
      "Downloader>  l\n"
     ]
    },
    {
     "name": "stdout",
     "output_type": "stream",
     "text": [
      "\n",
      "Packages:\n",
      "Error connecting to server: [Errno -3] Temporary failure in name resolution\n",
      "\n",
      "---------------------------------------------------------------------------\n",
      "    d) Download   l) List    u) Update   c) Config   h) Help   q) Quit\n",
      "---------------------------------------------------------------------------\n"
     ]
    },
    {
     "name": "stdin",
     "output_type": "stream",
     "text": [
      "Downloader>  l\n"
     ]
    },
    {
     "name": "stdout",
     "output_type": "stream",
     "text": [
      "\n",
      "Packages:\n",
      "Error connecting to server: [Errno -3] Temporary failure in name resolution\n",
      "\n",
      "---------------------------------------------------------------------------\n",
      "    d) Download   l) List    u) Update   c) Config   h) Help   q) Quit\n",
      "---------------------------------------------------------------------------\n"
     ]
    },
    {
     "name": "stdin",
     "output_type": "stream",
     "text": [
      "Downloader>  d\n"
     ]
    },
    {
     "name": "stdout",
     "output_type": "stream",
     "text": [
      "\n",
      "Download which package (l=list; x=cancel)?\n"
     ]
    },
    {
     "name": "stdin",
     "output_type": "stream",
     "text": [
      "  Identifier>  l\n"
     ]
    },
    {
     "name": "stdout",
     "output_type": "stream",
     "text": [
      "Packages:\n",
      "Error connecting to server: [Errno -3] Temporary failure in name resolution\n",
      "\n",
      "---------------------------------------------------------------------------\n",
      "    d) Download   l) List    u) Update   c) Config   h) Help   q) Quit\n",
      "---------------------------------------------------------------------------\n"
     ]
    },
    {
     "name": "stdin",
     "output_type": "stream",
     "text": [
      "Downloader>  d\n"
     ]
    },
    {
     "name": "stdout",
     "output_type": "stream",
     "text": [
      "\n",
      "Download which package (l=list; x=cancel)?\n"
     ]
    },
    {
     "name": "stdin",
     "output_type": "stream",
     "text": [
      "  Identifier>  x\n"
     ]
    },
    {
     "name": "stdout",
     "output_type": "stream",
     "text": [
      "\n",
      "---------------------------------------------------------------------------\n",
      "    d) Download   l) List    u) Update   c) Config   h) Help   q) Quit\n",
      "---------------------------------------------------------------------------\n"
     ]
    },
    {
     "name": "stdin",
     "output_type": "stream",
     "text": [
      "Downloader>  q\n"
     ]
    },
    {
     "data": {
      "text/plain": [
       "True"
      ]
     },
     "execution_count": 1,
     "metadata": {},
     "output_type": "execute_result"
    }
   ],
   "source": [
    "import nltk\n",
    "nltk.download()"
   ]
  },
  {
   "cell_type": "code",
   "execution_count": null,
   "metadata": {
    "execution": {
     "iopub.status.busy": "2023-08-28T17:48:05.106224Z",
     "iopub.status.idle": "2023-08-28T17:48:05.107064Z",
     "shell.execute_reply": "2023-08-28T17:48:05.106835Z",
     "shell.execute_reply.started": "2023-08-28T17:48:05.106809Z"
    },
    "id": "6isiiOmcvq0w"
   },
   "outputs": [],
   "source": [
    "import os\n",
    "import numpy as np\n",
    "import pandas as pd\n",
    "import matplotlib.pyplot as plt\n",
    "import seaborn as sns\n",
    "from nltk.corpus import stopwords\n",
    "from string import punctuation\n",
    "from nltk.tokenize import word_tokenize\n",
    "from nltk.stem import LancasterStemmer\n",
    "from string import punctuation\n",
    "from nltk.corpus import stopwords\n",
    "from nltk.tokenize import word_tokenize\n",
    "from nltk.stem import LancasterStemmer\n",
    "from nltk.stem.wordnet import WordNetLemmatizer\n",
    "import re\n",
    "import warnings\n",
    "warnings.filterwarnings('ignore')"
   ]
  },
  {
   "cell_type": "markdown",
   "metadata": {
    "id": "_0KvgJXu7Sud"
   },
   "source": [
    "## Dataset"
   ]
  },
  {
   "cell_type": "code",
   "execution_count": 3,
   "metadata": {
    "execution": {
     "iopub.execute_input": "2023-08-28T17:47:55.150291Z",
     "iopub.status.busy": "2023-08-28T17:47:55.147483Z",
     "iopub.status.idle": "2023-08-28T17:48:02.876664Z",
     "shell.execute_reply": "2023-08-28T17:48:02.875586Z",
     "shell.execute_reply.started": "2023-08-28T17:47:55.150235Z"
    },
    "id": "m4nkmVjuvwT5",
    "outputId": "c6d28287-9963-4468-dac9-6f17dcdaead3"
   },
   "outputs": [
    {
     "data": {
      "text/html": [
       "<div>\n",
       "<style scoped>\n",
       "    .dataframe tbody tr th:only-of-type {\n",
       "        vertical-align: middle;\n",
       "    }\n",
       "\n",
       "    .dataframe tbody tr th {\n",
       "        vertical-align: top;\n",
       "    }\n",
       "\n",
       "    .dataframe thead th {\n",
       "        text-align: right;\n",
       "    }\n",
       "</style>\n",
       "<table border=\"1\" class=\"dataframe\">\n",
       "  <thead>\n",
       "    <tr style=\"text-align: right;\">\n",
       "      <th></th>\n",
       "      <th>Sentiment</th>\n",
       "      <th>id</th>\n",
       "      <th>date</th>\n",
       "      <th>query</th>\n",
       "      <th>user</th>\n",
       "      <th>text</th>\n",
       "    </tr>\n",
       "  </thead>\n",
       "  <tbody>\n",
       "    <tr>\n",
       "      <th>0</th>\n",
       "      <td>0</td>\n",
       "      <td>1467810672</td>\n",
       "      <td>Mon Apr 06 22:19:49 PDT 2009</td>\n",
       "      <td>NO_QUERY</td>\n",
       "      <td>scotthamilton</td>\n",
       "      <td>is upset that he can't update his Facebook by ...</td>\n",
       "    </tr>\n",
       "    <tr>\n",
       "      <th>1</th>\n",
       "      <td>0</td>\n",
       "      <td>1467810917</td>\n",
       "      <td>Mon Apr 06 22:19:53 PDT 2009</td>\n",
       "      <td>NO_QUERY</td>\n",
       "      <td>mattycus</td>\n",
       "      <td>@Kenichan I dived many times for the ball. Man...</td>\n",
       "    </tr>\n",
       "    <tr>\n",
       "      <th>2</th>\n",
       "      <td>0</td>\n",
       "      <td>1467811184</td>\n",
       "      <td>Mon Apr 06 22:19:57 PDT 2009</td>\n",
       "      <td>NO_QUERY</td>\n",
       "      <td>ElleCTF</td>\n",
       "      <td>my whole body feels itchy and like its on fire</td>\n",
       "    </tr>\n",
       "    <tr>\n",
       "      <th>3</th>\n",
       "      <td>0</td>\n",
       "      <td>1467811193</td>\n",
       "      <td>Mon Apr 06 22:19:57 PDT 2009</td>\n",
       "      <td>NO_QUERY</td>\n",
       "      <td>Karoli</td>\n",
       "      <td>@nationwideclass no, it's not behaving at all....</td>\n",
       "    </tr>\n",
       "    <tr>\n",
       "      <th>4</th>\n",
       "      <td>0</td>\n",
       "      <td>1467811372</td>\n",
       "      <td>Mon Apr 06 22:20:00 PDT 2009</td>\n",
       "      <td>NO_QUERY</td>\n",
       "      <td>joy_wolf</td>\n",
       "      <td>@Kwesidei not the whole crew</td>\n",
       "    </tr>\n",
       "  </tbody>\n",
       "</table>\n",
       "</div>"
      ],
      "text/plain": [
       "   Sentiment          id                          date     query  \\\n",
       "0          0  1467810672  Mon Apr 06 22:19:49 PDT 2009  NO_QUERY   \n",
       "1          0  1467810917  Mon Apr 06 22:19:53 PDT 2009  NO_QUERY   \n",
       "2          0  1467811184  Mon Apr 06 22:19:57 PDT 2009  NO_QUERY   \n",
       "3          0  1467811193  Mon Apr 06 22:19:57 PDT 2009  NO_QUERY   \n",
       "4          0  1467811372  Mon Apr 06 22:20:00 PDT 2009  NO_QUERY   \n",
       "\n",
       "            user                                               text  \n",
       "0  scotthamilton  is upset that he can't update his Facebook by ...  \n",
       "1       mattycus  @Kenichan I dived many times for the ball. Man...  \n",
       "2        ElleCTF    my whole body feels itchy and like its on fire   \n",
       "3         Karoli  @nationwideclass no, it's not behaving at all....  \n",
       "4       joy_wolf                      @Kwesidei not the whole crew   "
      ]
     },
     "execution_count": 3,
     "metadata": {},
     "output_type": "execute_result"
    }
   ],
   "source": [
    "df = pd.read_csv('/kaggle/input/sentiment-analysis-dataset/training.1600000.processed.noemoticon.csv',\n",
    "                 delimiter=',', encoding='ISO-8859-1')\n",
    "df.columns = ['Sentiment','id','date','query','user','text']\n",
    "df.head()"
   ]
  },
  {
   "cell_type": "code",
   "execution_count": 24,
   "metadata": {
    "execution": {
     "iopub.execute_input": "2023-08-28T17:48:18.116942Z",
     "iopub.status.busy": "2023-08-28T17:48:18.116500Z",
     "iopub.status.idle": "2023-08-28T17:48:18.175283Z",
     "shell.execute_reply": "2023-08-28T17:48:18.174172Z",
     "shell.execute_reply.started": "2023-08-28T17:48:18.116907Z"
    },
    "id": "qFrg-zj3yWPC"
   },
   "outputs": [],
   "source": [
    "df = df[['Sentiment','text']]"
   ]
  },
  {
   "cell_type": "code",
   "execution_count": 5,
   "metadata": {
    "execution": {
     "iopub.execute_input": "2023-08-28T17:48:02.943071Z",
     "iopub.status.busy": "2023-08-28T17:48:02.940060Z",
     "iopub.status.idle": "2023-08-28T17:48:02.955200Z",
     "shell.execute_reply": "2023-08-28T17:48:02.954064Z",
     "shell.execute_reply.started": "2023-08-28T17:48:02.943006Z"
    },
    "id": "AiMGvQigyMyr",
    "outputId": "b33a6a7e-1145-4109-a8e2-61384e91c657"
   },
   "outputs": [
    {
     "data": {
      "text/plain": [
       "Index(['Sentiment', 'text'], dtype='object')"
      ]
     },
     "execution_count": 5,
     "metadata": {},
     "output_type": "execute_result"
    }
   ],
   "source": [
    "df.columns"
   ]
  },
  {
   "cell_type": "code",
   "execution_count": 6,
   "metadata": {
    "execution": {
     "iopub.execute_input": "2023-08-28T17:48:02.964015Z",
     "iopub.status.busy": "2023-08-28T17:48:02.961313Z",
     "iopub.status.idle": "2023-08-28T17:48:02.995648Z",
     "shell.execute_reply": "2023-08-28T17:48:02.994614Z",
     "shell.execute_reply.started": "2023-08-28T17:48:02.963966Z"
    },
    "id": "PKJSUVefyt5r",
    "outputId": "e6783641-c7b6-4e61-ca83-a0fb2ef0ca7f"
   },
   "outputs": [
    {
     "data": {
      "text/plain": [
       "0    799996\n",
       "4    248576\n",
       "Name: Sentiment, dtype: int64"
      ]
     },
     "execution_count": 6,
     "metadata": {},
     "output_type": "execute_result"
    }
   ],
   "source": [
    "df.Sentiment.value_counts()"
   ]
  },
  {
   "cell_type": "code",
   "execution_count": 7,
   "metadata": {
    "execution": {
     "iopub.execute_input": "2023-08-28T17:48:03.004109Z",
     "iopub.status.busy": "2023-08-28T17:48:03.001444Z",
     "iopub.status.idle": "2023-08-28T17:48:03.028624Z",
     "shell.execute_reply": "2023-08-28T17:48:03.027345Z",
     "shell.execute_reply.started": "2023-08-28T17:48:03.004057Z"
    },
    "id": "2Kd26i4-7cF9"
   },
   "outputs": [],
   "source": [
    "df['Sentiment'] = df['Sentiment'].replace({4:1})"
   ]
  },
  {
   "cell_type": "markdown",
   "metadata": {
    "id": "K2yYnXGj7j5b"
   },
   "source": [
    "* 0 represent Negative sentiment\n",
    "* 1 represents Positive sentiment"
   ]
  },
  {
   "cell_type": "markdown",
   "metadata": {
    "id": "imSLhWoS7sVJ"
   },
   "source": [
    "#### Visualizing the count"
   ]
  },
  {
   "cell_type": "code",
   "execution_count": 8,
   "metadata": {
    "execution": {
     "iopub.execute_input": "2023-08-28T17:48:03.036349Z",
     "iopub.status.busy": "2023-08-28T17:48:03.033732Z",
     "iopub.status.idle": "2023-08-28T17:48:03.479153Z",
     "shell.execute_reply": "2023-08-28T17:48:03.477809Z",
     "shell.execute_reply.started": "2023-08-28T17:48:03.036299Z"
    },
    "id": "UF7dC61c0iST",
    "outputId": "26f72887-c41c-4e3f-84d3-71c16a70ee1c"
   },
   "outputs": [
    {
     "data": {
      "image/png": "[encoded data removed]",
      "text/plain": [
       "<Figure size 432x288 with 1 Axes>"
      ]
     },
     "metadata": {
      "needs_background": "light"
     },
     "output_type": "display_data"
    }
   ],
   "source": [
    "sns.countplot(df[\"Sentiment\"])\n",
    "plt.title(\"Count Plot of Sentiment\")\n",
    "plt.show()"
   ]
  },
  {
   "cell_type": "code",
   "execution_count": 9,
   "metadata": {
    "execution": {
     "iopub.execute_input": "2023-08-28T17:48:03.486992Z",
     "iopub.status.busy": "2023-08-28T17:48:03.484279Z",
     "iopub.status.idle": "2023-08-28T17:48:03.637768Z",
     "shell.execute_reply": "2023-08-28T17:48:03.636726Z",
     "shell.execute_reply.started": "2023-08-28T17:48:03.486938Z"
    },
    "id": "QEU-Prdy9TuN",
    "outputId": "dbaa720d-10e6-4767-faf3-fdea16d348e5"
   },
   "outputs": [
    {
     "data": {
      "text/plain": [
       "0"
      ]
     },
     "execution_count": 9,
     "metadata": {},
     "output_type": "execute_result"
    }
   ],
   "source": [
    "df.isna().sum().sum()"
   ]
  },
  {
   "cell_type": "markdown",
   "metadata": {
    "id": "AquvrZe177zY"
   },
   "source": [
    "**Inference: The data is unbalanced therfore we will downsample the data to have same count for each sentiment**"
   ]
  },
  {
   "cell_type": "markdown",
   "metadata": {
    "id": "gkIn7qdtz_0P"
   },
   "source": [
    "## Downsampling the dataset"
   ]
  },
  {
   "cell_type": "code",
   "execution_count": 10,
   "metadata": {
    "execution": {
     "iopub.execute_input": "2023-08-28T17:48:03.650166Z",
     "iopub.status.busy": "2023-08-28T17:48:03.647257Z",
     "iopub.status.idle": "2023-08-28T17:48:03.656880Z",
     "shell.execute_reply": "2023-08-28T17:48:03.655723Z",
     "shell.execute_reply.started": "2023-08-28T17:48:03.650114Z"
    },
    "id": "YVb7UCAKz0D1"
   },
   "outputs": [],
   "source": [
    "from sklearn.utils import resample"
   ]
  },
  {
   "cell_type": "code",
   "execution_count": 11,
   "metadata": {
    "execution": {
     "iopub.execute_input": "2023-08-28T17:48:03.665127Z",
     "iopub.status.busy": "2023-08-28T17:48:03.662140Z",
     "iopub.status.idle": "2023-08-28T17:48:03.799769Z",
     "shell.execute_reply": "2023-08-28T17:48:03.798623Z",
     "shell.execute_reply.started": "2023-08-28T17:48:03.665074Z"
    },
    "id": "mq84twcC0KVv"
   },
   "outputs": [],
   "source": [
    "## majority class 0\n",
    "df_majority = df[df['Sentiment']==0]\n",
    "## minority class 1\n",
    "df_minority = df[df['Sentiment']==1]"
   ]
  },
  {
   "cell_type": "code",
   "execution_count": 12,
   "metadata": {
    "execution": {
     "iopub.execute_input": "2023-08-28T17:48:03.807632Z",
     "iopub.status.busy": "2023-08-28T17:48:03.804710Z",
     "iopub.status.idle": "2023-08-28T17:48:03.819871Z",
     "shell.execute_reply": "2023-08-28T17:48:03.818714Z",
     "shell.execute_reply.started": "2023-08-28T17:48:03.807579Z"
    },
    "id": "16vuY3--0q8v",
    "outputId": "0ca11dbd-5572-46cc-90cd-e141f71a0434"
   },
   "outputs": [
    {
     "data": {
      "text/plain": [
       "(248576, 2)"
      ]
     },
     "execution_count": 12,
     "metadata": {},
     "output_type": "execute_result"
    }
   ],
   "source": [
    "df_minority.shape"
   ]
  },
  {
   "cell_type": "code",
   "execution_count": 13,
   "metadata": {
    "execution": {
     "iopub.execute_input": "2023-08-28T17:48:03.828633Z",
     "iopub.status.busy": "2023-08-28T17:48:03.825622Z",
     "iopub.status.idle": "2023-08-28T17:48:03.926992Z",
     "shell.execute_reply": "2023-08-28T17:48:03.925901Z",
     "shell.execute_reply.started": "2023-08-28T17:48:03.828582Z"
    },
    "id": "RLhofhRR0gJr"
   },
   "outputs": [],
   "source": [
    "# downsample the majority class\n",
    "df_majority_downsampled = resample(df_majority, \n",
    "                                 replace=False,   \n",
    "                                 n_samples=len(df_minority),    \n",
    "                                 random_state=1234) "
   ]
  },
  {
   "cell_type": "code",
   "execution_count": 14,
   "metadata": {
    "execution": {
     "iopub.execute_input": "2023-08-28T17:48:03.935164Z",
     "iopub.status.busy": "2023-08-28T17:48:03.932582Z",
     "iopub.status.idle": "2023-08-28T17:48:03.993303Z",
     "shell.execute_reply": "2023-08-28T17:48:03.992164Z",
     "shell.execute_reply.started": "2023-08-28T17:48:03.935114Z"
    },
    "id": "w_vuHw3J0zVf",
    "outputId": "d4a0ac95-d587-4b71-d7c7-ca37ec81b575"
   },
   "outputs": [
    {
     "data": {
      "text/html": [
       "<div>\n",
       "<style scoped>\n",
       "    .dataframe tbody tr th:only-of-type {\n",
       "        vertical-align: middle;\n",
       "    }\n",
       "\n",
       "    .dataframe tbody tr th {\n",
       "        vertical-align: top;\n",
       "    }\n",
       "\n",
       "    .dataframe thead th {\n",
       "        text-align: right;\n",
       "    }\n",
       "</style>\n",
       "<table border=\"1\" class=\"dataframe\">\n",
       "  <thead>\n",
       "    <tr style=\"text-align: right;\">\n",
       "      <th></th>\n",
       "      <th>Sentiment</th>\n",
       "      <th>text</th>\n",
       "    </tr>\n",
       "  </thead>\n",
       "  <tbody>\n",
       "    <tr>\n",
       "      <th>74567</th>\n",
       "      <td>0</td>\n",
       "      <td>Wow slept for almost 12hours. Sleepy me!! Uni ...</td>\n",
       "    </tr>\n",
       "    <tr>\n",
       "      <th>668722</th>\n",
       "      <td>0</td>\n",
       "      <td>gets bored with an idea too easily ... like tw...</td>\n",
       "    </tr>\n",
       "    <tr>\n",
       "      <th>286706</th>\n",
       "      <td>0</td>\n",
       "      <td>To my girls - sorry i've been a homebody latel...</td>\n",
       "    </tr>\n",
       "    <tr>\n",
       "      <th>632911</th>\n",
       "      <td>0</td>\n",
       "      <td>BK once again for the weekend...If it wasnt fo...</td>\n",
       "    </tr>\n",
       "    <tr>\n",
       "      <th>356735</th>\n",
       "      <td>0</td>\n",
       "      <td>@DonnieWahlberg Now why didn't you do that las...</td>\n",
       "    </tr>\n",
       "  </tbody>\n",
       "</table>\n",
       "</div>"
      ],
      "text/plain": [
       "        Sentiment                                               text\n",
       "74567           0  Wow slept for almost 12hours. Sleepy me!! Uni ...\n",
       "668722          0  gets bored with an idea too easily ... like tw...\n",
       "286706          0  To my girls - sorry i've been a homebody latel...\n",
       "632911          0  BK once again for the weekend...If it wasnt fo...\n",
       "356735          0  @DonnieWahlberg Now why didn't you do that las..."
      ]
     },
     "execution_count": 14,
     "metadata": {},
     "output_type": "execute_result"
    }
   ],
   "source": [
    "df = df_majority_downsampled.append(df_minority)\n",
    "df.head()"
   ]
  },
  {
   "cell_type": "markdown",
   "metadata": {
    "id": "BfWPsZW8M4Nq"
   },
   "source": [
    "#### Visualizing after downsampling\n",
    "\n",
    "248576 data for each class"
   ]
  },
  {
   "cell_type": "code",
   "execution_count": 15,
   "metadata": {
    "execution": {
     "iopub.execute_input": "2023-08-28T17:48:04.001191Z",
     "iopub.status.busy": "2023-08-28T17:48:03.998536Z",
     "iopub.status.idle": "2023-08-28T17:48:04.220476Z",
     "shell.execute_reply": "2023-08-28T17:48:04.219427Z",
     "shell.execute_reply.started": "2023-08-28T17:48:04.001139Z"
    },
    "id": "EkLmr78e05Tf",
    "outputId": "653ca157-4ec3-4b63-a588-852018d76f87"
   },
   "outputs": [
    {
     "data": {
      "image/png": "[encoded data removed]",
      "text/plain": [
       "<Figure size 432x288 with 1 Axes>"
      ]
     },
     "metadata": {
      "needs_background": "light"
     },
     "output_type": "display_data"
    }
   ],
   "source": [
    "sns.countplot(df[\"Sentiment\"])\n",
    "plt.title(\"Count Plot of target class\")\n",
    "plt.show()"
   ]
  },
  {
   "cell_type": "markdown",
   "metadata": {
    "id": "-1FcB7fB8fcu"
   },
   "source": [
    "## Data Preprocessing\n",
    "\n",
    "1. removing stop words\n",
    "2. removing punctuations\n",
    "3. Lemmatizing\n",
    "4. removing tags\n",
    "5. removing special characters \n",
    "6. lowercase conversion"
   ]
  },
  {
   "cell_type": "code",
   "execution_count": 16,
   "metadata": {
    "execution": {
     "iopub.execute_input": "2023-08-28T17:48:04.227875Z",
     "iopub.status.busy": "2023-08-28T17:48:04.225398Z",
     "iopub.status.idle": "2023-08-28T17:48:04.266218Z",
     "shell.execute_reply": "2023-08-28T17:48:04.264847Z",
     "shell.execute_reply.started": "2023-08-28T17:48:04.227826Z"
    },
    "id": "QBT3OGSW09Y-",
    "outputId": "391c74ce-b9b9-405a-bc25-2d882a85ae89"
   },
   "outputs": [
    {
     "name": "stdout",
     "output_type": "stream",
     "text": [
      "497152\n",
      "Wow slept for almost 12hours. Sleepy me!! Uni now, boo! I wanna stay home, drink tea and watch house... \n"
     ]
    }
   ],
   "source": [
    "## remove stopwords and punctuation marks\n",
    "stuff_to_be_removed = list(stopwords.words('english'))+list(punctuation)\n",
    "stemmer = LancasterStemmer()\n",
    "\n",
    "corpus = df['text'].tolist()\n",
    "print(len(corpus))\n",
    "print(corpus[0])"
   ]
  },
  {
   "cell_type": "code",
   "execution_count": 17,
   "metadata": {
    "execution": {
     "iopub.execute_input": "2023-08-28T17:48:04.274569Z",
     "iopub.status.busy": "2023-08-28T17:48:04.271954Z",
     "iopub.status.idle": "2023-08-28T17:48:04.547804Z",
     "shell.execute_reply": "2023-08-28T17:48:04.546791Z",
     "shell.execute_reply.started": "2023-08-28T17:48:04.274501Z"
    },
    "id": "-dOQ1PyG1LkX",
    "outputId": "501e2a1e-8566-483b-a884-df0a4da594b9"
   },
   "outputs": [
    {
     "ename": "LookupError",
     "evalue": "\n**********************************************************************\n  Resource \u001b[93momw-1.4\u001b[0m not found.\n  Please use the NLTK Downloader to obtain the resource:\n\n  \u001b[31m>>> import nltk\n  >>> nltk.download('omw-1.4')\n  \u001b[0m\n  For more information see: https://www.nltk.org/data.html\n\n  Attempted to load \u001b[93mcorpora/omw-1.4\u001b[0m\n\n  Searched in:\n    - '/root/nltk_data'\n    - '/opt/conda/nltk_data'\n    - '/opt/conda/share/nltk_data'\n    - '/opt/conda/lib/nltk_data'\n    - '/usr/share/nltk_data'\n    - '/usr/local/share/nltk_data'\n    - '/usr/lib/nltk_data'\n    - '/usr/local/lib/nltk_data'\n**********************************************************************\n",
     "output_type": "error",
     "traceback": [
      "\u001b[0;31m---------------------------------------------------------------------------\u001b[0m",
      "\u001b[0;31mLookupError\u001b[0m                               Traceback (most recent call last)",
      "\u001b[0;32m/opt/conda/lib/python3.7/site-packages/nltk/corpus/util.py\u001b[0m in \u001b[0;36m__load\u001b[0;34m(self)\u001b[0m\n\u001b[1;32m     83\u001b[0m                 \u001b[0;32mtry\u001b[0m\u001b[0;34m:\u001b[0m\u001b[0;34m\u001b[0m\u001b[0;34m\u001b[0m\u001b[0m\n\u001b[0;32m---> 84\u001b[0;31m                     \u001b[0mroot\u001b[0m \u001b[0;34m=\u001b[0m \u001b[0mnltk\u001b[0m\u001b[0;34m.\u001b[0m\u001b[0mdata\u001b[0m\u001b[0;34m.\u001b[0m\u001b[0mfind\u001b[0m\u001b[0;34m(\u001b[0m\u001b[0;34mf\"{self.subdir}/{zip_name}\"\u001b[0m\u001b[0;34m)\u001b[0m\u001b[0;34m\u001b[0m\u001b[0;34m\u001b[0m\u001b[0m\n\u001b[0m\u001b[1;32m     85\u001b[0m                 \u001b[0;32mexcept\u001b[0m \u001b[0mLookupError\u001b[0m\u001b[0;34m:\u001b[0m\u001b[0;34m\u001b[0m\u001b[0;34m\u001b[0m\u001b[0m\n",
      "\u001b[0;32m/opt/conda/lib/python3.7/site-packages/nltk/data.py\u001b[0m in \u001b[0;36mfind\u001b[0;34m(resource_name, paths)\u001b[0m\n\u001b[1;32m    582\u001b[0m     \u001b[0mresource_not_found\u001b[0m \u001b[0;34m=\u001b[0m \u001b[0;34mf\"\\n{sep}\\n{msg}\\n{sep}\\n\"\u001b[0m\u001b[0;34m\u001b[0m\u001b[0;34m\u001b[0m\u001b[0m\n\u001b[0;32m--> 583\u001b[0;31m     \u001b[0;32mraise\u001b[0m \u001b[0mLookupError\u001b[0m\u001b[0;34m(\u001b[0m\u001b[0mresource_not_found\u001b[0m\u001b[0;34m)\u001b[0m\u001b[0;34m\u001b[0m\u001b[0;34m\u001b[0m\u001b[0m\n\u001b[0m\u001b[1;32m    584\u001b[0m \u001b[0;34m\u001b[0m\u001b[0m\n",
      "\u001b[0;31mLookupError\u001b[0m: \n**********************************************************************\n  Resource \u001b[93momw-1.4\u001b[0m not found.\n  Please use the NLTK Downloader to obtain the resource:\n\n  \u001b[31m>>> import nltk\n  >>> nltk.download('omw-1.4')\n  \u001b[0m\n  For more information see: https://www.nltk.org/data.html\n\n  Attempted to load \u001b[93mcorpora/omw-1.4.zip/omw-1.4/\u001b[0m\n\n  Searched in:\n    - '/root/nltk_data'\n    - '/opt/conda/nltk_data'\n    - '/opt/conda/share/nltk_data'\n    - '/opt/conda/lib/nltk_data'\n    - '/usr/share/nltk_data'\n    - '/usr/local/share/nltk_data'\n    - '/usr/lib/nltk_data'\n    - '/usr/local/lib/nltk_data'\n**********************************************************************\n",
      "\nDuring handling of the above exception, another exception occurred:\n",
      "\u001b[0;31mLookupError\u001b[0m                               Traceback (most recent call last)",
      "\u001b[0;32m<timed exec>\u001b[0m in \u001b[0;36m<module>\u001b[0;34m\u001b[0m\n",
      "\u001b[0;32m<timed exec>\u001b[0m in \u001b[0;36m<listcomp>\u001b[0;34m(.0)\u001b[0m\n",
      "\u001b[0;32m/opt/conda/lib/python3.7/site-packages/nltk/stem/wordnet.py\u001b[0m in \u001b[0;36mlemmatize\u001b[0;34m(self, word, pos)\u001b[0m\n\u001b[1;32m     43\u001b[0m         \u001b[0;34m:\u001b[0m\u001b[0;32mreturn\u001b[0m\u001b[0;34m:\u001b[0m \u001b[0mThe\u001b[0m \u001b[0mlemma\u001b[0m \u001b[0mof\u001b[0m\u001b[0;31m \u001b[0m\u001b[0;31m`\u001b[0m\u001b[0mword\u001b[0m\u001b[0;31m`\u001b[0m\u001b[0;34m,\u001b[0m \u001b[0;32mfor\u001b[0m \u001b[0mthe\u001b[0m \u001b[0mgiven\u001b[0m\u001b[0;31m \u001b[0m\u001b[0;31m`\u001b[0m\u001b[0mpos\u001b[0m\u001b[0;31m`\u001b[0m\u001b[0;34m.\u001b[0m\u001b[0;34m\u001b[0m\u001b[0;34m\u001b[0m\u001b[0m\n\u001b[1;32m     44\u001b[0m         \"\"\"\n\u001b[0;32m---> 45\u001b[0;31m         \u001b[0mlemmas\u001b[0m \u001b[0;34m=\u001b[0m \u001b[0mwn\u001b[0m\u001b[0;34m.\u001b[0m\u001b[0m_morphy\u001b[0m\u001b[0;34m(\u001b[0m\u001b[0mword\u001b[0m\u001b[0;34m,\u001b[0m \u001b[0mpos\u001b[0m\u001b[0;34m)\u001b[0m\u001b[0;34m\u001b[0m\u001b[0;34m\u001b[0m\u001b[0m\n\u001b[0m\u001b[1;32m     46\u001b[0m         \u001b[0;32mreturn\u001b[0m \u001b[0mmin\u001b[0m\u001b[0;34m(\u001b[0m\u001b[0mlemmas\u001b[0m\u001b[0;34m,\u001b[0m \u001b[0mkey\u001b[0m\u001b[0;34m=\u001b[0m\u001b[0mlen\u001b[0m\u001b[0;34m)\u001b[0m \u001b[0;32mif\u001b[0m \u001b[0mlemmas\u001b[0m \u001b[0;32melse\u001b[0m \u001b[0mword\u001b[0m\u001b[0;34m\u001b[0m\u001b[0;34m\u001b[0m\u001b[0m\n\u001b[1;32m     47\u001b[0m \u001b[0;34m\u001b[0m\u001b[0m\n",
      "\u001b[0;32m/opt/conda/lib/python3.7/site-packages/nltk/corpus/util.py\u001b[0m in \u001b[0;36m__getattr__\u001b[0;34m(self, attr)\u001b[0m\n\u001b[1;32m    119\u001b[0m             \u001b[0;32mraise\u001b[0m \u001b[0mAttributeError\u001b[0m\u001b[0;34m(\u001b[0m\u001b[0;34m\"LazyCorpusLoader object has no attribute '__bases__'\"\u001b[0m\u001b[0;34m)\u001b[0m\u001b[0;34m\u001b[0m\u001b[0;34m\u001b[0m\u001b[0m\n\u001b[1;32m    120\u001b[0m \u001b[0;34m\u001b[0m\u001b[0m\n\u001b[0;32m--> 121\u001b[0;31m         \u001b[0mself\u001b[0m\u001b[0;34m.\u001b[0m\u001b[0m__load\u001b[0m\u001b[0;34m(\u001b[0m\u001b[0;34m)\u001b[0m\u001b[0;34m\u001b[0m\u001b[0;34m\u001b[0m\u001b[0m\n\u001b[0m\u001b[1;32m    122\u001b[0m         \u001b[0;31m# This looks circular, but its not, since __load() changes our\u001b[0m\u001b[0;34m\u001b[0m\u001b[0;34m\u001b[0m\u001b[0;34m\u001b[0m\u001b[0m\n\u001b[1;32m    123\u001b[0m         \u001b[0;31m# __class__ to something new:\u001b[0m\u001b[0;34m\u001b[0m\u001b[0;34m\u001b[0m\u001b[0;34m\u001b[0m\u001b[0m\n",
      "\u001b[0;32m/opt/conda/lib/python3.7/site-packages/nltk/corpus/util.py\u001b[0m in \u001b[0;36m__load\u001b[0;34m(self)\u001b[0m\n\u001b[1;32m     87\u001b[0m \u001b[0;34m\u001b[0m\u001b[0m\n\u001b[1;32m     88\u001b[0m         \u001b[0;31m# Load the corpus.\u001b[0m\u001b[0;34m\u001b[0m\u001b[0;34m\u001b[0m\u001b[0;34m\u001b[0m\u001b[0m\n\u001b[0;32m---> 89\u001b[0;31m         \u001b[0mcorpus\u001b[0m \u001b[0;34m=\u001b[0m \u001b[0mself\u001b[0m\u001b[0;34m.\u001b[0m\u001b[0m__reader_cls\u001b[0m\u001b[0;34m(\u001b[0m\u001b[0mroot\u001b[0m\u001b[0;34m,\u001b[0m \u001b[0;34m*\u001b[0m\u001b[0mself\u001b[0m\u001b[0;34m.\u001b[0m\u001b[0m__args\u001b[0m\u001b[0;34m,\u001b[0m \u001b[0;34m**\u001b[0m\u001b[0mself\u001b[0m\u001b[0;34m.\u001b[0m\u001b[0m__kwargs\u001b[0m\u001b[0;34m)\u001b[0m\u001b[0;34m\u001b[0m\u001b[0;34m\u001b[0m\u001b[0m\n\u001b[0m\u001b[1;32m     90\u001b[0m \u001b[0;34m\u001b[0m\u001b[0m\n\u001b[1;32m     91\u001b[0m         \u001b[0;31m# This is where the magic happens!  Transform ourselves into\u001b[0m\u001b[0;34m\u001b[0m\u001b[0;34m\u001b[0m\u001b[0;34m\u001b[0m\u001b[0m\n",
      "\u001b[0;32m/opt/conda/lib/python3.7/site-packages/nltk/corpus/reader/wordnet.py\u001b[0m in \u001b[0;36m__init__\u001b[0;34m(self, root, omw_reader)\u001b[0m\n\u001b[1;32m   1174\u001b[0m             )\n\u001b[1;32m   1175\u001b[0m         \u001b[0;32melse\u001b[0m\u001b[0;34m:\u001b[0m\u001b[0;34m\u001b[0m\u001b[0;34m\u001b[0m\u001b[0m\n\u001b[0;32m-> 1176\u001b[0;31m             \u001b[0mself\u001b[0m\u001b[0;34m.\u001b[0m\u001b[0mprovenances\u001b[0m \u001b[0;34m=\u001b[0m \u001b[0mself\u001b[0m\u001b[0;34m.\u001b[0m\u001b[0momw_prov\u001b[0m\u001b[0;34m(\u001b[0m\u001b[0;34m)\u001b[0m\u001b[0;34m\u001b[0m\u001b[0;34m\u001b[0m\u001b[0m\n\u001b[0m\u001b[1;32m   1177\u001b[0m \u001b[0;34m\u001b[0m\u001b[0m\n\u001b[1;32m   1178\u001b[0m         \u001b[0;31m# A cache to store the wordnet data of multiple languages\u001b[0m\u001b[0;34m\u001b[0m\u001b[0;34m\u001b[0m\u001b[0;34m\u001b[0m\u001b[0m\n",
      "\u001b[0;32m/opt/conda/lib/python3.7/site-packages/nltk/corpus/reader/wordnet.py\u001b[0m in \u001b[0;36momw_prov\u001b[0;34m(self)\u001b[0m\n\u001b[1;32m   1283\u001b[0m         \u001b[0mprovdict\u001b[0m \u001b[0;34m=\u001b[0m \u001b[0;34m{\u001b[0m\u001b[0;34m}\u001b[0m\u001b[0;34m\u001b[0m\u001b[0;34m\u001b[0m\u001b[0m\n\u001b[1;32m   1284\u001b[0m         \u001b[0mprovdict\u001b[0m\u001b[0;34m[\u001b[0m\u001b[0;34m\"eng\"\u001b[0m\u001b[0;34m]\u001b[0m \u001b[0;34m=\u001b[0m \u001b[0;34m\"\"\u001b[0m\u001b[0;34m\u001b[0m\u001b[0;34m\u001b[0m\u001b[0m\n\u001b[0;32m-> 1285\u001b[0;31m         \u001b[0mfileids\u001b[0m \u001b[0;34m=\u001b[0m \u001b[0mself\u001b[0m\u001b[0;34m.\u001b[0m\u001b[0m_omw_reader\u001b[0m\u001b[0;34m.\u001b[0m\u001b[0mfileids\u001b[0m\u001b[0;34m(\u001b[0m\u001b[0;34m)\u001b[0m\u001b[0;34m\u001b[0m\u001b[0;34m\u001b[0m\u001b[0m\n\u001b[0m\u001b[1;32m   1286\u001b[0m         \u001b[0;32mfor\u001b[0m \u001b[0mfileid\u001b[0m \u001b[0;32min\u001b[0m \u001b[0mfileids\u001b[0m\u001b[0;34m:\u001b[0m\u001b[0;34m\u001b[0m\u001b[0;34m\u001b[0m\u001b[0m\n\u001b[1;32m   1287\u001b[0m             \u001b[0mprov\u001b[0m\u001b[0;34m,\u001b[0m \u001b[0mlangfile\u001b[0m \u001b[0;34m=\u001b[0m \u001b[0mos\u001b[0m\u001b[0;34m.\u001b[0m\u001b[0mpath\u001b[0m\u001b[0;34m.\u001b[0m\u001b[0msplit\u001b[0m\u001b[0;34m(\u001b[0m\u001b[0mfileid\u001b[0m\u001b[0;34m)\u001b[0m\u001b[0;34m\u001b[0m\u001b[0;34m\u001b[0m\u001b[0m\n",
      "\u001b[0;32m/opt/conda/lib/python3.7/site-packages/nltk/corpus/util.py\u001b[0m in \u001b[0;36m__getattr__\u001b[0;34m(self, attr)\u001b[0m\n\u001b[1;32m    119\u001b[0m             \u001b[0;32mraise\u001b[0m \u001b[0mAttributeError\u001b[0m\u001b[0;34m(\u001b[0m\u001b[0;34m\"LazyCorpusLoader object has no attribute '__bases__'\"\u001b[0m\u001b[0;34m)\u001b[0m\u001b[0;34m\u001b[0m\u001b[0;34m\u001b[0m\u001b[0m\n\u001b[1;32m    120\u001b[0m \u001b[0;34m\u001b[0m\u001b[0m\n\u001b[0;32m--> 121\u001b[0;31m         \u001b[0mself\u001b[0m\u001b[0;34m.\u001b[0m\u001b[0m__load\u001b[0m\u001b[0;34m(\u001b[0m\u001b[0;34m)\u001b[0m\u001b[0;34m\u001b[0m\u001b[0;34m\u001b[0m\u001b[0m\n\u001b[0m\u001b[1;32m    122\u001b[0m         \u001b[0;31m# This looks circular, but its not, since __load() changes our\u001b[0m\u001b[0;34m\u001b[0m\u001b[0;34m\u001b[0m\u001b[0;34m\u001b[0m\u001b[0m\n\u001b[1;32m    123\u001b[0m         \u001b[0;31m# __class__ to something new:\u001b[0m\u001b[0;34m\u001b[0m\u001b[0;34m\u001b[0m\u001b[0;34m\u001b[0m\u001b[0m\n",
      "\u001b[0;32m/opt/conda/lib/python3.7/site-packages/nltk/corpus/util.py\u001b[0m in \u001b[0;36m__load\u001b[0;34m(self)\u001b[0m\n\u001b[1;32m     84\u001b[0m                     \u001b[0mroot\u001b[0m \u001b[0;34m=\u001b[0m \u001b[0mnltk\u001b[0m\u001b[0;34m.\u001b[0m\u001b[0mdata\u001b[0m\u001b[0;34m.\u001b[0m\u001b[0mfind\u001b[0m\u001b[0;34m(\u001b[0m\u001b[0;34mf\"{self.subdir}/{zip_name}\"\u001b[0m\u001b[0;34m)\u001b[0m\u001b[0;34m\u001b[0m\u001b[0;34m\u001b[0m\u001b[0m\n\u001b[1;32m     85\u001b[0m                 \u001b[0;32mexcept\u001b[0m \u001b[0mLookupError\u001b[0m\u001b[0;34m:\u001b[0m\u001b[0;34m\u001b[0m\u001b[0;34m\u001b[0m\u001b[0m\n\u001b[0;32m---> 86\u001b[0;31m                     \u001b[0;32mraise\u001b[0m \u001b[0me\u001b[0m\u001b[0;34m\u001b[0m\u001b[0;34m\u001b[0m\u001b[0m\n\u001b[0m\u001b[1;32m     87\u001b[0m \u001b[0;34m\u001b[0m\u001b[0m\n\u001b[1;32m     88\u001b[0m         \u001b[0;31m# Load the corpus.\u001b[0m\u001b[0;34m\u001b[0m\u001b[0;34m\u001b[0m\u001b[0;34m\u001b[0m\u001b[0m\n",
      "\u001b[0;32m/opt/conda/lib/python3.7/site-packages/nltk/corpus/util.py\u001b[0m in \u001b[0;36m__load\u001b[0;34m(self)\u001b[0m\n\u001b[1;32m     79\u001b[0m         \u001b[0;32melse\u001b[0m\u001b[0;34m:\u001b[0m\u001b[0;34m\u001b[0m\u001b[0;34m\u001b[0m\u001b[0m\n\u001b[1;32m     80\u001b[0m             \u001b[0;32mtry\u001b[0m\u001b[0;34m:\u001b[0m\u001b[0;34m\u001b[0m\u001b[0;34m\u001b[0m\u001b[0m\n\u001b[0;32m---> 81\u001b[0;31m                 \u001b[0mroot\u001b[0m \u001b[0;34m=\u001b[0m \u001b[0mnltk\u001b[0m\u001b[0;34m.\u001b[0m\u001b[0mdata\u001b[0m\u001b[0;34m.\u001b[0m\u001b[0mfind\u001b[0m\u001b[0;34m(\u001b[0m\u001b[0;34mf\"{self.subdir}/{self.__name}\"\u001b[0m\u001b[0;34m)\u001b[0m\u001b[0;34m\u001b[0m\u001b[0;34m\u001b[0m\u001b[0m\n\u001b[0m\u001b[1;32m     82\u001b[0m             \u001b[0;32mexcept\u001b[0m \u001b[0mLookupError\u001b[0m \u001b[0;32mas\u001b[0m \u001b[0me\u001b[0m\u001b[0;34m:\u001b[0m\u001b[0;34m\u001b[0m\u001b[0;34m\u001b[0m\u001b[0m\n\u001b[1;32m     83\u001b[0m                 \u001b[0;32mtry\u001b[0m\u001b[0;34m:\u001b[0m\u001b[0;34m\u001b[0m\u001b[0;34m\u001b[0m\u001b[0m\n",
      "\u001b[0;32m/opt/conda/lib/python3.7/site-packages/nltk/data.py\u001b[0m in \u001b[0;36mfind\u001b[0;34m(resource_name, paths)\u001b[0m\n\u001b[1;32m    581\u001b[0m     \u001b[0msep\u001b[0m \u001b[0;34m=\u001b[0m \u001b[0;34m\"*\"\u001b[0m \u001b[0;34m*\u001b[0m \u001b[0;36m70\u001b[0m\u001b[0;34m\u001b[0m\u001b[0;34m\u001b[0m\u001b[0m\n\u001b[1;32m    582\u001b[0m     \u001b[0mresource_not_found\u001b[0m \u001b[0;34m=\u001b[0m \u001b[0;34mf\"\\n{sep}\\n{msg}\\n{sep}\\n\"\u001b[0m\u001b[0;34m\u001b[0m\u001b[0;34m\u001b[0m\u001b[0m\n\u001b[0;32m--> 583\u001b[0;31m     \u001b[0;32mraise\u001b[0m \u001b[0mLookupError\u001b[0m\u001b[0;34m(\u001b[0m\u001b[0mresource_not_found\u001b[0m\u001b[0;34m)\u001b[0m\u001b[0;34m\u001b[0m\u001b[0;34m\u001b[0m\u001b[0m\n\u001b[0m\u001b[1;32m    584\u001b[0m \u001b[0;34m\u001b[0m\u001b[0m\n\u001b[1;32m    585\u001b[0m \u001b[0;34m\u001b[0m\u001b[0m\n",
      "\u001b[0;31mLookupError\u001b[0m: \n**********************************************************************\n  Resource \u001b[93momw-1.4\u001b[0m not found.\n  Please use the NLTK Downloader to obtain the resource:\n\n  \u001b[31m>>> import nltk\n  >>> nltk.download('omw-1.4')\n  \u001b[0m\n  For more information see: https://www.nltk.org/data.html\n\n  Attempted to load \u001b[93mcorpora/omw-1.4\u001b[0m\n\n  Searched in:\n    - '/root/nltk_data'\n    - '/opt/conda/nltk_data'\n    - '/opt/conda/share/nltk_data'\n    - '/opt/conda/lib/nltk_data'\n    - '/usr/share/nltk_data'\n    - '/usr/local/share/nltk_data'\n    - '/usr/lib/nltk_data'\n    - '/usr/local/lib/nltk_data'\n**********************************************************************\n"
     ]
    }
   ],
   "source": [
    "%%time\n",
    "final_corpus = []\n",
    "final_corpus_joined = []\n",
    "for i in df.index:\n",
    "\n",
    "    text = re.sub('[^a-zA-Z]', ' ', df['text'][i])\n",
    "    #Convert to lowercase\n",
    "    text = text.lower()\n",
    "    #remove tags\n",
    "    text=re.sub(\"&lt;/?.*?&gt;\",\" &lt;&gt; \",text)\n",
    "    \n",
    "    # remove special characters and digits\n",
    "    text=re.sub(\"(\\\\d|\\\\W)+\",\" \",text)\n",
    "    \n",
    "    ##Convert to list from string\n",
    "    text = text.split()\n",
    "\n",
    "    #Lemmatisation\n",
    "    lem = WordNetLemmatizer()\n",
    "    text = [lem.lemmatize(word) for word in text \n",
    "            if not word in stuff_to_be_removed] \n",
    "    text1 = \" \".join(text)\n",
    "    final_corpus.append(text)\n",
    "    final_corpus_joined.append(text1)"
   ]
  },
  {
   "cell_type": "markdown",
   "metadata": {
    "id": "NQvBFJXp850N"
   },
   "source": [
    "#### Storing the cleaned data seperately"
   ]
  },
  {
   "cell_type": "code",
   "execution_count": 18,
   "metadata": {
    "execution": {
     "iopub.execute_input": "2023-08-28T17:48:04.555273Z",
     "iopub.status.busy": "2023-08-28T17:48:04.552693Z",
     "iopub.status.idle": "2023-08-28T17:48:04.653248Z",
     "shell.execute_reply": "2023-08-28T17:48:04.652060Z",
     "shell.execute_reply.started": "2023-08-28T17:48:04.555220Z"
    },
    "id": "B7y8QQKGiZWB"
   },
   "outputs": [],
   "source": [
    "data_cleaned = pd.DataFrame()\n",
    "data_cleaned[\"text\"] = final_corpus_joined\n",
    "data_cleaned[\"Sentiment\"] = df[\"Sentiment\"].values"
   ]
  },
  {
   "cell_type": "code",
   "execution_count": 19,
   "metadata": {
    "execution": {
     "iopub.execute_input": "2023-08-28T17:48:04.660713Z",
     "iopub.status.busy": "2023-08-28T17:48:04.658234Z",
     "iopub.status.idle": "2023-08-28T17:48:04.680397Z",
     "shell.execute_reply": "2023-08-28T17:48:04.679042Z",
     "shell.execute_reply.started": "2023-08-28T17:48:04.660664Z"
    },
    "id": "eHmMH15c9a-y",
    "outputId": "5de0fc1f-057b-471f-a5f8-e50d3f908eb0"
   },
   "outputs": [
    {
     "data": {
      "text/plain": [
       "0    248576\n",
       "1    248576\n",
       "Name: Sentiment, dtype: int64"
      ]
     },
     "execution_count": 19,
     "metadata": {},
     "output_type": "execute_result"
    }
   ],
   "source": [
    "data_cleaned['Sentiment'].value_counts()"
   ]
  },
  {
   "cell_type": "code",
   "execution_count": 20,
   "metadata": {
    "execution": {
     "iopub.execute_input": "2023-08-28T17:48:04.688914Z",
     "iopub.status.busy": "2023-08-28T17:48:04.686020Z",
     "iopub.status.idle": "2023-08-28T17:48:04.707398Z",
     "shell.execute_reply": "2023-08-28T17:48:04.706156Z",
     "shell.execute_reply.started": "2023-08-28T17:48:04.688858Z"
    },
    "id": "yxJ-NU1UijuH",
    "outputId": "43dba2cc-9576-49af-adf3-bee86cf6589b"
   },
   "outputs": [
    {
     "data": {
      "text/html": [
       "<div>\n",
       "<style scoped>\n",
       "    .dataframe tbody tr th:only-of-type {\n",
       "        vertical-align: middle;\n",
       "    }\n",
       "\n",
       "    .dataframe tbody tr th {\n",
       "        vertical-align: top;\n",
       "    }\n",
       "\n",
       "    .dataframe thead th {\n",
       "        text-align: right;\n",
       "    }\n",
       "</style>\n",
       "<table border=\"1\" class=\"dataframe\">\n",
       "  <thead>\n",
       "    <tr style=\"text-align: right;\">\n",
       "      <th></th>\n",
       "      <th>text</th>\n",
       "      <th>Sentiment</th>\n",
       "    </tr>\n",
       "  </thead>\n",
       "  <tbody>\n",
       "    <tr>\n",
       "      <th>0</th>\n",
       "      <td>NaN</td>\n",
       "      <td>0</td>\n",
       "    </tr>\n",
       "    <tr>\n",
       "      <th>1</th>\n",
       "      <td>NaN</td>\n",
       "      <td>0</td>\n",
       "    </tr>\n",
       "    <tr>\n",
       "      <th>2</th>\n",
       "      <td>NaN</td>\n",
       "      <td>0</td>\n",
       "    </tr>\n",
       "    <tr>\n",
       "      <th>3</th>\n",
       "      <td>NaN</td>\n",
       "      <td>0</td>\n",
       "    </tr>\n",
       "    <tr>\n",
       "      <th>4</th>\n",
       "      <td>NaN</td>\n",
       "      <td>0</td>\n",
       "    </tr>\n",
       "  </tbody>\n",
       "</table>\n",
       "</div>"
      ],
      "text/plain": [
       "   text  Sentiment\n",
       "0   NaN          0\n",
       "1   NaN          0\n",
       "2   NaN          0\n",
       "3   NaN          0\n",
       "4   NaN          0"
      ]
     },
     "execution_count": 20,
     "metadata": {},
     "output_type": "execute_result"
    }
   ],
   "source": [
    "data_cleaned.head()"
   ]
  },
  {
   "cell_type": "markdown",
   "metadata": {
    "id": "N4sc3F89me2V"
   },
   "source": [
    "## EDA"
   ]
  },
  {
   "cell_type": "code",
   "execution_count": 21,
   "metadata": {
    "execution": {
     "iopub.execute_input": "2023-08-28T17:48:04.716921Z",
     "iopub.status.busy": "2023-08-28T17:48:04.713773Z",
     "iopub.status.idle": "2023-08-28T17:48:04.832970Z",
     "shell.execute_reply": "2023-08-28T17:48:04.831831Z",
     "shell.execute_reply.started": "2023-08-28T17:48:04.716866Z"
    },
    "id": "HkJRE3-1iyhg",
    "outputId": "8da4f333-06db-4b34-d0d0-151b8189eb2e"
   },
   "outputs": [
    {
     "data": {
      "text/html": [
       "<div>\n",
       "<style scoped>\n",
       "    .dataframe tbody tr th:only-of-type {\n",
       "        vertical-align: middle;\n",
       "    }\n",
       "\n",
       "    .dataframe tbody tr th {\n",
       "        vertical-align: top;\n",
       "    }\n",
       "\n",
       "    .dataframe thead th {\n",
       "        text-align: right;\n",
       "    }\n",
       "</style>\n",
       "<table border=\"1\" class=\"dataframe\">\n",
       "  <thead>\n",
       "    <tr style=\"text-align: right;\">\n",
       "      <th></th>\n",
       "      <th>text</th>\n",
       "      <th>Sentiment</th>\n",
       "    </tr>\n",
       "  </thead>\n",
       "  <tbody>\n",
       "    <tr>\n",
       "      <th>0</th>\n",
       "      <td>NaN</td>\n",
       "      <td>0</td>\n",
       "    </tr>\n",
       "    <tr>\n",
       "      <th>1</th>\n",
       "      <td>NaN</td>\n",
       "      <td>0</td>\n",
       "    </tr>\n",
       "    <tr>\n",
       "      <th>2</th>\n",
       "      <td>NaN</td>\n",
       "      <td>0</td>\n",
       "    </tr>\n",
       "    <tr>\n",
       "      <th>3</th>\n",
       "      <td>NaN</td>\n",
       "      <td>0</td>\n",
       "    </tr>\n",
       "    <tr>\n",
       "      <th>4</th>\n",
       "      <td>NaN</td>\n",
       "      <td>0</td>\n",
       "    </tr>\n",
       "  </tbody>\n",
       "</table>\n",
       "</div>"
      ],
      "text/plain": [
       "   text  Sentiment\n",
       "0   NaN          0\n",
       "1   NaN          0\n",
       "2   NaN          0\n",
       "3   NaN          0\n",
       "4   NaN          0"
      ]
     },
     "execution_count": 21,
     "metadata": {},
     "output_type": "execute_result"
    }
   ],
   "source": [
    "data_eda = pd.DataFrame()\n",
    "data_eda['text'] = final_corpus\n",
    "data_eda['Sentiment'] = df[\"Sentiment\"].values\n",
    "data_eda.head()"
   ]
  },
  {
   "cell_type": "code",
   "execution_count": 22,
   "metadata": {
    "execution": {
     "iopub.execute_input": "2023-08-28T17:48:04.841554Z",
     "iopub.status.busy": "2023-08-28T17:48:04.838847Z",
     "iopub.status.idle": "2023-08-28T17:48:04.919392Z",
     "shell.execute_reply": "2023-08-28T17:48:04.918361Z",
     "shell.execute_reply.started": "2023-08-28T17:48:04.841481Z"
    },
    "id": "EmnwOmF4il5P"
   },
   "outputs": [],
   "source": [
    "# Storing positive data seperately\n",
    "positive = data_eda[data_eda['Sentiment'] == 1]\n",
    "positive_list = positive['text'].tolist()\n",
    "\n",
    "# Storing negative data seperately\n",
    "\n",
    "negative = data_eda[data_eda['Sentiment'] == 0]\n",
    "negative_list = negative['text'].tolist()"
   ]
  },
  {
   "cell_type": "code",
   "execution_count": 23,
   "metadata": {
    "execution": {
     "iopub.execute_input": "2023-08-28T17:48:04.927655Z",
     "iopub.status.busy": "2023-08-28T17:48:04.925082Z",
     "iopub.status.idle": "2023-08-28T17:48:05.011844Z",
     "shell.execute_reply": "2023-08-28T17:48:05.007229Z",
     "shell.execute_reply.started": "2023-08-28T17:48:04.927605Z"
    },
    "id": "wd_vmljtly_1"
   },
   "outputs": [
    {
     "ename": "TypeError",
     "evalue": "'float' object is not iterable",
     "output_type": "error",
     "traceback": [
      "\u001b[0;31m---------------------------------------------------------------------------\u001b[0m",
      "\u001b[0;31mTypeError\u001b[0m                                 Traceback (most recent call last)",
      "\u001b[0;32m/tmp/ipykernel_22/2117832112.py\u001b[0m in \u001b[0;36m<module>\u001b[0;34m\u001b[0m\n\u001b[0;32m----> 1\u001b[0;31m \u001b[0mpositive_all\u001b[0m \u001b[0;34m=\u001b[0m \u001b[0;34m\" \"\u001b[0m\u001b[0;34m.\u001b[0m\u001b[0mjoin\u001b[0m\u001b[0;34m(\u001b[0m\u001b[0;34m[\u001b[0m\u001b[0mword\u001b[0m \u001b[0;32mfor\u001b[0m \u001b[0msent\u001b[0m \u001b[0;32min\u001b[0m \u001b[0mpositive_list\u001b[0m \u001b[0;32mfor\u001b[0m \u001b[0mword\u001b[0m \u001b[0;32min\u001b[0m \u001b[0msent\u001b[0m \u001b[0;34m]\u001b[0m\u001b[0;34m)\u001b[0m\u001b[0;34m\u001b[0m\u001b[0;34m\u001b[0m\u001b[0m\n\u001b[0m\u001b[1;32m      2\u001b[0m \u001b[0mnegative_all\u001b[0m \u001b[0;34m=\u001b[0m \u001b[0;34m\" \"\u001b[0m\u001b[0;34m.\u001b[0m\u001b[0mjoin\u001b[0m\u001b[0;34m(\u001b[0m\u001b[0;34m[\u001b[0m\u001b[0mword\u001b[0m \u001b[0;32mfor\u001b[0m \u001b[0msent\u001b[0m \u001b[0;32min\u001b[0m \u001b[0mnegative_list\u001b[0m \u001b[0;32mfor\u001b[0m \u001b[0mword\u001b[0m \u001b[0;32min\u001b[0m \u001b[0msent\u001b[0m \u001b[0;34m]\u001b[0m\u001b[0;34m)\u001b[0m\u001b[0;34m\u001b[0m\u001b[0;34m\u001b[0m\u001b[0m\n",
      "\u001b[0;32m/tmp/ipykernel_22/2117832112.py\u001b[0m in \u001b[0;36m<listcomp>\u001b[0;34m(.0)\u001b[0m\n\u001b[0;32m----> 1\u001b[0;31m \u001b[0mpositive_all\u001b[0m \u001b[0;34m=\u001b[0m \u001b[0;34m\" \"\u001b[0m\u001b[0;34m.\u001b[0m\u001b[0mjoin\u001b[0m\u001b[0;34m(\u001b[0m\u001b[0;34m[\u001b[0m\u001b[0mword\u001b[0m \u001b[0;32mfor\u001b[0m \u001b[0msent\u001b[0m \u001b[0;32min\u001b[0m \u001b[0mpositive_list\u001b[0m \u001b[0;32mfor\u001b[0m \u001b[0mword\u001b[0m \u001b[0;32min\u001b[0m \u001b[0msent\u001b[0m \u001b[0;34m]\u001b[0m\u001b[0;34m)\u001b[0m\u001b[0;34m\u001b[0m\u001b[0;34m\u001b[0m\u001b[0m\n\u001b[0m\u001b[1;32m      2\u001b[0m \u001b[0mnegative_all\u001b[0m \u001b[0;34m=\u001b[0m \u001b[0;34m\" \"\u001b[0m\u001b[0;34m.\u001b[0m\u001b[0mjoin\u001b[0m\u001b[0;34m(\u001b[0m\u001b[0;34m[\u001b[0m\u001b[0mword\u001b[0m \u001b[0;32mfor\u001b[0m \u001b[0msent\u001b[0m \u001b[0;32min\u001b[0m \u001b[0mnegative_list\u001b[0m \u001b[0;32mfor\u001b[0m \u001b[0mword\u001b[0m \u001b[0;32min\u001b[0m \u001b[0msent\u001b[0m \u001b[0;34m]\u001b[0m\u001b[0;34m)\u001b[0m\u001b[0;34m\u001b[0m\u001b[0;34m\u001b[0m\u001b[0m\n",
      "\u001b[0;31mTypeError\u001b[0m: 'float' object is not iterable"
     ]
    }
   ],
   "source": [
    "positive_all = \" \".join([word for sent in positive_list for word in sent ])\n",
    "negative_all = \" \".join([word for sent in negative_list for word in sent ])"
   ]
  },
  {
   "cell_type": "markdown",
   "metadata": {
    "id": "FDCFxG8V9sgZ"
   },
   "source": [
    "#### Word Cloud Positive data"
   ]
  },
  {
   "cell_type": "code",
   "execution_count": null,
   "metadata": {
    "execution": {
     "iopub.status.busy": "2023-08-28T17:48:05.015414Z",
     "iopub.status.idle": "2023-08-28T17:48:05.018360Z",
     "shell.execute_reply": "2023-08-28T17:48:05.018052Z",
     "shell.execute_reply.started": "2023-08-28T17:48:05.018018Z"
    },
    "id": "YUFpKnynk74r",
    "outputId": "264b2361-88b3-4d65-dc16-7c125dd13f34"
   },
   "outputs": [],
   "source": [
    "from wordcloud import WordCloud\n",
    "WordCloud()\n",
    "wordcloud = WordCloud(width=2000,\n",
    "                      height=1000,\n",
    "                      background_color='#F2EDD7FF',\n",
    "                      max_words = 100).generate(positive_all)\n",
    "\n",
    "plt.figure(figsize=(20,30))\n",
    "plt.imshow(wordcloud)\n",
    "plt.title(\"Positive\")\n",
    "plt.show()"
   ]
  },
  {
   "cell_type": "markdown",
   "metadata": {
    "id": "HP9wYw8S9yQq"
   },
   "source": [
    "#### Word CLoud Negative data"
   ]
  },
  {
   "cell_type": "code",
   "execution_count": null,
   "metadata": {
    "execution": {
     "iopub.status.busy": "2023-08-28T17:48:05.023047Z",
     "iopub.status.idle": "2023-08-28T17:48:05.027260Z",
     "shell.execute_reply": "2023-08-28T17:48:05.026933Z",
     "shell.execute_reply.started": "2023-08-28T17:48:05.026886Z"
    },
    "id": "R0lnM_gD25Zn",
    "outputId": "e98ad4de-9900-429b-86e3-0a070e2c41f0"
   },
   "outputs": [],
   "source": [
    "from wordcloud import WordCloud\n",
    "WordCloud()\n",
    "wordcloud = WordCloud(width=2000,\n",
    "                      height=1000,\n",
    "                      background_color='#F2EDD7FF',\n",
    "                      max_words = 100).generate(negative_all)\n",
    "\n",
    "plt.figure(figsize=(20,30))\n",
    "plt.imshow(wordcloud)\n",
    "plt.title(\"negative\")\n",
    "plt.show()"
   ]
  },
  {
   "cell_type": "markdown",
   "metadata": {
    "id": "ZJHkc4by-BJh"
   },
   "source": [
    "**Inference:**\n",
    "* Positive data has words like Thank, love , LOL, Haha ets \n",
    "* Negative data has words like work, sad, tired, suck sorry <br>\n",
    "Some of the words are still common in both such as Lol, quot"
   ]
  },
  {
   "cell_type": "markdown",
   "metadata": {
    "id": "dx7vrsSm-5xU"
   },
   "source": [
    "#### One word count"
   ]
  },
  {
   "cell_type": "code",
   "execution_count": null,
   "metadata": {
    "execution": {
     "iopub.status.busy": "2023-08-28T17:48:05.030935Z",
     "iopub.status.idle": "2023-08-28T17:48:05.031842Z",
     "shell.execute_reply": "2023-08-28T17:48:05.031598Z",
     "shell.execute_reply.started": "2023-08-28T17:48:05.031570Z"
    },
    "id": "0kyqiHupzRZz"
   },
   "outputs": [],
   "source": [
    "def get_count(data):\n",
    "    dic = {}\n",
    "    for i in data:\n",
    "        for j in i:\n",
    "            if j not in dic:\n",
    "                dic[j]=1\n",
    "            else:\n",
    "                dic[j]+=1    \n",
    "            \n",
    "    return(dic)\n",
    "count_corpus = get_count(positive_list)"
   ]
  },
  {
   "cell_type": "code",
   "execution_count": null,
   "metadata": {
    "execution": {
     "iopub.status.busy": "2023-08-28T17:48:05.038834Z",
     "iopub.status.idle": "2023-08-28T17:48:05.039913Z",
     "shell.execute_reply": "2023-08-28T17:48:05.039637Z",
     "shell.execute_reply.started": "2023-08-28T17:48:05.039606Z"
    },
    "id": "tKi-auPR1iXU"
   },
   "outputs": [],
   "source": [
    "count_corpus = pd.DataFrame({\"word\":count_corpus.keys(),\"count\":count_corpus.values()})\n",
    "count_corpus = count_corpus.sort_values(by = \"count\", ascending = False)"
   ]
  },
  {
   "cell_type": "code",
   "execution_count": null,
   "metadata": {
    "execution": {
     "iopub.status.busy": "2023-08-28T17:48:05.041568Z",
     "iopub.status.idle": "2023-08-28T17:48:05.042502Z",
     "shell.execute_reply": "2023-08-28T17:48:05.042261Z",
     "shell.execute_reply.started": "2023-08-28T17:48:05.042234Z"
    },
    "id": "U1rqx9Vk1kpR",
    "outputId": "f63d31e8-c710-467e-f175-1c5adc6973e6"
   },
   "outputs": [],
   "source": [
    "import seaborn as sns\n",
    "plt.figure(figsize = (15,10))\n",
    "sns.barplot(x = count_corpus[\"word\"][:20], y = count_corpus[\"count\"][:20])\n",
    "plt.title('one words in positive data')\n",
    "plt.show()"
   ]
  },
  {
   "cell_type": "code",
   "execution_count": null,
   "metadata": {
    "execution": {
     "iopub.status.busy": "2023-08-28T17:48:05.044101Z",
     "iopub.status.idle": "2023-08-28T17:48:05.052242Z",
     "shell.execute_reply": "2023-08-28T17:48:05.051845Z",
     "shell.execute_reply.started": "2023-08-28T17:48:05.051804Z"
    },
    "id": "sGXC-ZW2bU3q"
   },
   "outputs": [],
   "source": [
    "def get_count(data):\n",
    "    dic = {}\n",
    "    for i in data:\n",
    "        for j in i:\n",
    "            if j not in dic:\n",
    "                dic[j]=1\n",
    "            else:\n",
    "                dic[j]+=1    \n",
    "            \n",
    "    #dic = dict(sorted(dic.items() , key = lambda x:x[1],reverse=True))\n",
    "    return(dic)\n",
    "count_corpus = get_count(negative_list)"
   ]
  },
  {
   "cell_type": "code",
   "execution_count": null,
   "metadata": {
    "execution": {
     "iopub.status.busy": "2023-08-28T17:48:05.054080Z",
     "iopub.status.idle": "2023-08-28T17:48:05.054971Z",
     "shell.execute_reply": "2023-08-28T17:48:05.054731Z",
     "shell.execute_reply.started": "2023-08-28T17:48:05.054704Z"
    },
    "id": "y3dM4ISLbU3r"
   },
   "outputs": [],
   "source": [
    "count_corpus = pd.DataFrame({\"word\":count_corpus.keys(),\"count\":count_corpus.values()})\n",
    "count_corpus = count_corpus.sort_values(by = \"count\", ascending = False)"
   ]
  },
  {
   "cell_type": "code",
   "execution_count": null,
   "metadata": {
    "execution": {
     "iopub.status.busy": "2023-08-28T17:48:05.056543Z",
     "iopub.status.idle": "2023-08-28T17:48:05.057354Z",
     "shell.execute_reply": "2023-08-28T17:48:05.057127Z",
     "shell.execute_reply.started": "2023-08-28T17:48:05.057103Z"
    },
    "id": "fWyGz3pVbU3r",
    "outputId": "1c76106c-b663-424c-c01b-cfef97430d1f"
   },
   "outputs": [],
   "source": [
    "import seaborn as sns\n",
    "plt.figure(figsize = (15,10))\n",
    "sns.barplot(x = count_corpus[\"word\"][:20], y = count_corpus[\"count\"][:20])\n",
    "plt.title('one words in negative data')\n",
    "plt.show()"
   ]
  },
  {
   "cell_type": "markdown",
   "metadata": {
    "id": "bD-flC7j_RAf"
   },
   "source": [
    "**Inference**\n",
    "* Positive data has words like good, day, thanks, great, happy\n",
    "* Negative data has words like work, miss, sad etc"
   ]
  },
  {
   "cell_type": "markdown",
   "metadata": {
    "id": "N2ffn8hZAQH1"
   },
   "source": [
    "## Classification \n",
    "### Naive bayes for sentiment analysis"
   ]
  },
  {
   "cell_type": "code",
   "execution_count": null,
   "metadata": {
    "execution": {
     "iopub.status.busy": "2023-08-28T17:48:05.058886Z",
     "iopub.status.idle": "2023-08-28T17:48:05.059708Z",
     "shell.execute_reply": "2023-08-28T17:48:05.059464Z",
     "shell.execute_reply.started": "2023-08-28T17:48:05.059428Z"
    },
    "id": "RWVjjX1OcY9l"
   },
   "outputs": [],
   "source": [
    "def get_tweets_for_model(cleaned_tokens_list):\n",
    "    for tweet_tokens in cleaned_tokens_list:\n",
    "        yield dict([token, True] for token in tweet_tokens)\n",
    "\n",
    "positive_tokens_for_model = get_tweets_for_model(positive_list)\n",
    "negative_tokens_for_model = get_tweets_for_model(negative_list)"
   ]
  },
  {
   "cell_type": "code",
   "execution_count": null,
   "metadata": {
    "execution": {
     "iopub.status.busy": "2023-08-28T17:48:05.062051Z",
     "iopub.status.idle": "2023-08-28T17:48:05.070121Z",
     "shell.execute_reply": "2023-08-28T17:48:05.069775Z",
     "shell.execute_reply.started": "2023-08-28T17:48:05.069736Z"
    },
    "id": "DQShZmh3cspj",
    "outputId": "a6337486-7230-4e9a-e931-2c375ea13e4d"
   },
   "outputs": [],
   "source": [
    "import random\n",
    "\n",
    "positive_dataset = [(review_dict, \"Positive\")\n",
    "                     for review_dict in positive_tokens_for_model]\n",
    "\n",
    "negative_dataset = [(review_dict, \"Negative\")\n",
    "                     for review_dict in negative_tokens_for_model]\n",
    "dataset = positive_dataset + negative_dataset\n",
    "\n",
    "random.shuffle(dataset)\n",
    "\n",
    "train_data = dataset[:333091]\n",
    "test_data = dataset[333091:]\n"
   ]
  },
  {
   "cell_type": "code",
   "execution_count": null,
   "metadata": {
    "execution": {
     "iopub.status.busy": "2023-08-28T17:48:05.071898Z",
     "iopub.status.idle": "2023-08-28T17:48:05.072829Z",
     "shell.execute_reply": "2023-08-28T17:48:05.072512Z",
     "shell.execute_reply.started": "2023-08-28T17:48:05.072486Z"
    },
    "id": "OOBrMUVBc5bV",
    "outputId": "437b3656-3fbf-4e77-80c9-730564aef516"
   },
   "outputs": [],
   "source": [
    "from nltk import classify\n",
    "from nltk import NaiveBayesClassifier\n",
    "classifier = NaiveBayesClassifier.train(train_data)\n",
    "\n",
    "print(\" Training Accuracy is:\", round(classify.accuracy(classifier, train_data),2)*100)\n",
    "\n",
    "print(\"Testing Accuracy is:\", round(classify.accuracy(classifier, test_data),2)*100)\n",
    "\n",
    "print(classifier.show_most_informative_features(10))"
   ]
  },
  {
   "cell_type": "markdown",
   "metadata": {
    "id": "jvt-X0ZubmSr"
   },
   "source": [
    "### TFIDF for sentiment analysis"
   ]
  },
  {
   "cell_type": "code",
   "execution_count": null,
   "metadata": {
    "execution": {
     "iopub.status.busy": "2023-08-28T17:48:05.074441Z",
     "iopub.status.idle": "2023-08-28T17:48:05.075321Z",
     "shell.execute_reply": "2023-08-28T17:48:05.075094Z",
     "shell.execute_reply.started": "2023-08-28T17:48:05.075069Z"
    },
    "id": "wfvuQLZp3Cv-"
   },
   "outputs": [],
   "source": [
    "from sklearn.feature_extraction.text import TfidfVectorizer\n",
    "tfidf = TfidfVectorizer()\n",
    "vector = tfidf.fit_transform(data_cleaned['text'])\n",
    "y = data_cleaned['Sentiment']"
   ]
  },
  {
   "cell_type": "code",
   "execution_count": null,
   "metadata": {
    "execution": {
     "iopub.status.busy": "2023-08-28T17:48:05.077202Z",
     "iopub.status.idle": "2023-08-28T17:48:05.078109Z",
     "shell.execute_reply": "2023-08-28T17:48:05.077858Z",
     "shell.execute_reply.started": "2023-08-28T17:48:05.077831Z"
    },
    "id": "NKVufIEe20ye"
   },
   "outputs": [],
   "source": [
    "from sklearn.model_selection import train_test_split\n",
    "X_train, X_test, y_train, y_test = train_test_split(vector, \n",
    "                                                    y, \n",
    "                                                    test_size=0.33, \n",
    "                                                    random_state=42,\n",
    "                                                    stratify = y)"
   ]
  },
  {
   "cell_type": "code",
   "execution_count": null,
   "metadata": {
    "execution": {
     "iopub.status.busy": "2023-08-28T17:48:05.080665Z",
     "iopub.status.idle": "2023-08-28T17:48:05.088085Z",
     "shell.execute_reply": "2023-08-28T17:48:05.087740Z",
     "shell.execute_reply.started": "2023-08-28T17:48:05.087702Z"
    },
    "id": "wftKGU-L3Oet"
   },
   "outputs": [],
   "source": [
    "from sklearn.naive_bayes import MultinomialNB\n",
    "from sklearn.svm import LinearSVC\n",
    "from sklearn.metrics import ConfusionMatrixDisplay\n",
    "from sklearn.discriminant_analysis import LinearDiscriminantAnalysis\n",
    "from sklearn.metrics import accuracy_score,confusion_matrix,classification_report\n",
    "from sklearn.linear_model import LogisticRegression"
   ]
  },
  {
   "cell_type": "code",
   "execution_count": null,
   "metadata": {
    "execution": {
     "iopub.status.busy": "2023-08-28T17:48:05.089852Z",
     "iopub.status.idle": "2023-08-28T17:48:05.090753Z",
     "shell.execute_reply": "2023-08-28T17:48:05.090468Z",
     "shell.execute_reply.started": "2023-08-28T17:48:05.090444Z"
    },
    "id": "HuezohML34V7"
   },
   "outputs": [],
   "source": [
    "def metrics(y_train,y_train_pred,y_test,y_test_pred):\n",
    "  print(\"training accuracy = \",round(accuracy_score(y_train,y_train_pred),2)*100)\n",
    "  ConfusionMatrixDisplay.from_predictions(y_train,y_train_pred,normalize = 'all')\n",
    "  print(classification_report(y_train,y_train_pred))\n",
    "  plt.show()\n",
    "\n",
    "  print(\"testing accuracy = \",round(accuracy_score(y_test,y_test_pred),2)*100)\n",
    "  ConfusionMatrixDisplay.from_predictions(y_test,y_test_pred,normalize = 'all')\n",
    "  print(classification_report(y_test,y_test_pred))\n",
    "  plt.show()"
   ]
  },
  {
   "cell_type": "markdown",
   "metadata": {
    "id": "s10OddQvPGyT"
   },
   "source": [
    "### Multinomial NB"
   ]
  },
  {
   "cell_type": "code",
   "execution_count": null,
   "metadata": {
    "execution": {
     "iopub.status.busy": "2023-08-28T17:48:05.092329Z",
     "iopub.status.idle": "2023-08-28T17:48:05.093152Z",
     "shell.execute_reply": "2023-08-28T17:48:05.092919Z",
     "shell.execute_reply.started": "2023-08-28T17:48:05.092894Z"
    },
    "id": "eTLmcfJA3Vmc",
    "outputId": "4de49b97-e5b1-4eaa-d16c-d4da4c71a310"
   },
   "outputs": [],
   "source": [
    "NB = MultinomialNB()\n",
    "NB.fit(X_train,y_train)\n",
    "y_train_pred = NB.predict(X_train)\n",
    "y_test_pred = NB.predict(X_test)\n",
    "metrics(y_train,y_train_pred,y_test,y_test_pred)"
   ]
  },
  {
   "cell_type": "markdown",
   "metadata": {
    "id": "SK3FGVYjPJl8"
   },
   "source": [
    "### Linear SVC"
   ]
  },
  {
   "cell_type": "code",
   "execution_count": null,
   "metadata": {
    "execution": {
     "iopub.status.busy": "2023-08-28T17:48:05.094665Z",
     "iopub.status.idle": "2023-08-28T17:48:05.095448Z",
     "shell.execute_reply": "2023-08-28T17:48:05.095229Z",
     "shell.execute_reply.started": "2023-08-28T17:48:05.095205Z"
    },
    "id": "Tam8hBP_3Ypl",
    "outputId": "2c4aa78f-aa47-4834-c944-21c939207ce0"
   },
   "outputs": [],
   "source": [
    "svc = LinearSVC()\n",
    "svc.fit(X_train,y_train)\n",
    "y_train_pred = svc.predict(X_train)\n",
    "y_test_pred = svc.predict(X_test)\n",
    "metrics(y_train,y_train_pred,y_test,y_test_pred)\n"
   ]
  },
  {
   "cell_type": "markdown",
   "metadata": {
    "id": "8Gmkhvi3PL4m"
   },
   "source": [
    "### Logistic regression"
   ]
  },
  {
   "cell_type": "code",
   "execution_count": null,
   "metadata": {
    "execution": {
     "iopub.status.busy": "2023-08-28T17:48:05.103749Z",
     "iopub.status.idle": "2023-08-28T17:48:05.104693Z",
     "shell.execute_reply": "2023-08-28T17:48:05.104432Z",
     "shell.execute_reply.started": "2023-08-28T17:48:05.104393Z"
    },
    "id": "GQL85TN34etI",
    "outputId": "4d51ac15-90d7-4845-f21a-f47ba6c297c2"
   },
   "outputs": [],
   "source": [
    "lr = LogisticRegression()\n",
    "lr.fit(X_train,y_train)\n",
    "y_train_pred = lr.predict(X_train)\n",
    "y_test_pred = lr.predict(X_test)\n",
    "metrics(y_train,y_train_pred,y_test,y_test_pred)"
   ]
  },
  {
   "cell_type": "markdown",
   "metadata": {
    "id": "h0e4sdQiLf0g"
   },
   "source": [
    "## Conclusion\n",
    "\n",
    "|Model|Training Accuracy|Testing Accuracy|\n",
    "|---|---|---|\n",
    "|Naive Bayes|86%|76%|\n",
    "|Multinomial NB| 85%|76%|\n",
    "|linear SVC|90%|77%|\n",
    "|Logistic|83%|78%|\n"
   ]
  },
  {
   "cell_type": "markdown",
   "metadata": {
    "id": "0thmfOokL1sJ"
   },
   "source": [
    "\n",
    "\n",
    "We see that Logistic regression model performs best with least overfitting as compared to other models and has better performance in testing dataset as well"
   ]
  },
  {
   "cell_type": "code",
   "execution_count": null,
   "metadata": {
    "id": "nerAOs0gKkZ1"
   },
   "outputs": [],
   "source": []
  }
 ],
 "metadata": {
  "kernelspec": {
   "display_name": "Python 3 (ipykernel)",
   "language": "python",
   "name": "python3"
  },
  "language_info": {
   "codemirror_mode": {
    "name": "ipython",
    "version": 3
   },
   "file_extension": ".py",
   "mimetype": "text/x-python",
   "name": "python",
   "nbconvert_exporter": "python",
   "pygments_lexer": "ipython3",
   "version": "3.11.5"
  }
 },
 "nbformat": 4,
 "nbformat_minor": 4
}
