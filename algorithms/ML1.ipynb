{
 "cells": [
  {
   "cell_type": "code",
   "execution_count": 4,
   "id": "d2505fec",
   "metadata": {},
   "outputs": [
    {
     "data": {
      "text/html": [
       "<div>\n",
       "<style scoped>\n",
       "    .dataframe tbody tr th:only-of-type {\n",
       "        vertical-align: middle;\n",
       "    }\n",
       "\n",
       "    .dataframe tbody tr th {\n",
       "        vertical-align: top;\n",
       "    }\n",
       "\n",
       "    .dataframe thead th {\n",
       "        text-align: right;\n",
       "    }\n",
       "</style>\n",
       "<table border=\"1\" class=\"dataframe\">\n",
       "  <thead>\n",
       "    <tr style=\"text-align: right;\">\n",
       "      <th></th>\n",
       "      <th>sales</th>\n",
       "      <th>youtube</th>\n",
       "      <th>facebook</th>\n",
       "      <th>newspaper</th>\n",
       "    </tr>\n",
       "  </thead>\n",
       "  <tbody>\n",
       "    <tr>\n",
       "      <th>0</th>\n",
       "      <td>26.52</td>\n",
       "      <td>276.12</td>\n",
       "      <td>45.36</td>\n",
       "      <td>83.04</td>\n",
       "    </tr>\n",
       "    <tr>\n",
       "      <th>1</th>\n",
       "      <td>12.48</td>\n",
       "      <td>53.40</td>\n",
       "      <td>47.16</td>\n",
       "      <td>54.12</td>\n",
       "    </tr>\n",
       "    <tr>\n",
       "      <th>2</th>\n",
       "      <td>11.16</td>\n",
       "      <td>20.64</td>\n",
       "      <td>55.08</td>\n",
       "      <td>83.16</td>\n",
       "    </tr>\n",
       "    <tr>\n",
       "      <th>3</th>\n",
       "      <td>22.20</td>\n",
       "      <td>181.80</td>\n",
       "      <td>49.56</td>\n",
       "      <td>70.20</td>\n",
       "    </tr>\n",
       "    <tr>\n",
       "      <th>4</th>\n",
       "      <td>15.48</td>\n",
       "      <td>216.96</td>\n",
       "      <td>12.96</td>\n",
       "      <td>70.08</td>\n",
       "    </tr>\n",
       "    <tr>\n",
       "      <th>5</th>\n",
       "      <td>8.64</td>\n",
       "      <td>10.44</td>\n",
       "      <td>58.68</td>\n",
       "      <td>90.00</td>\n",
       "    </tr>\n",
       "    <tr>\n",
       "      <th>6</th>\n",
       "      <td>14.16</td>\n",
       "      <td>69.00</td>\n",
       "      <td>39.36</td>\n",
       "      <td>28.20</td>\n",
       "    </tr>\n",
       "    <tr>\n",
       "      <th>7</th>\n",
       "      <td>15.84</td>\n",
       "      <td>144.24</td>\n",
       "      <td>23.52</td>\n",
       "      <td>13.92</td>\n",
       "    </tr>\n",
       "    <tr>\n",
       "      <th>8</th>\n",
       "      <td>5.76</td>\n",
       "      <td>10.32</td>\n",
       "      <td>2.52</td>\n",
       "      <td>1.20</td>\n",
       "    </tr>\n",
       "    <tr>\n",
       "      <th>9</th>\n",
       "      <td>12.72</td>\n",
       "      <td>239.76</td>\n",
       "      <td>3.12</td>\n",
       "      <td>25.44</td>\n",
       "    </tr>\n",
       "    <tr>\n",
       "      <th>10</th>\n",
       "      <td>10.32</td>\n",
       "      <td>79.32</td>\n",
       "      <td>6.96</td>\n",
       "      <td>29.04</td>\n",
       "    </tr>\n",
       "  </tbody>\n",
       "</table>\n",
       "</div>"
      ],
      "text/plain": [
       "    sales  youtube  facebook  newspaper\n",
       "0   26.52   276.12     45.36      83.04\n",
       "1   12.48    53.40     47.16      54.12\n",
       "2   11.16    20.64     55.08      83.16\n",
       "3   22.20   181.80     49.56      70.20\n",
       "4   15.48   216.96     12.96      70.08\n",
       "5    8.64    10.44     58.68      90.00\n",
       "6   14.16    69.00     39.36      28.20\n",
       "7   15.84   144.24     23.52      13.92\n",
       "8    5.76    10.32      2.52       1.20\n",
       "9   12.72   239.76      3.12      25.44\n",
       "10  10.32    79.32      6.96      29.04"
      ]
     },
     "execution_count": 4,
     "metadata": {},
     "output_type": "execute_result"
    }
   ],
   "source": [
    "import pandas as pd\n",
    "data=pd.read_csv(\"C:\\\\Users\\\\prasanna\\\\OneDrive\\\\Desktop\\\\ML\\\\Lreg\\\\Lreg\\\\ML2_Regression.csv\")\n",
    "data.head(11)"
   ]
  },
  {
   "cell_type": "code",
   "execution_count": 5,
   "id": "d761b6cc",
   "metadata": {},
   "outputs": [
    {
     "data": {
      "text/plain": [
       "sales        0\n",
       "youtube      0\n",
       "facebook     0\n",
       "newspaper    0\n",
       "dtype: int64"
      ]
     },
     "execution_count": 5,
     "metadata": {},
     "output_type": "execute_result"
    }
   ],
   "source": [
    "#checks for null values and returns the sum of null values in the dataset\n",
    "data.isnull().sum()"
   ]
  },
  {
   "cell_type": "code",
   "execution_count": 6,
   "id": "80844af0",
   "metadata": {},
   "outputs": [
    {
     "name": "stdout",
     "output_type": "stream",
     "text": [
      "<class 'pandas.core.frame.DataFrame'>\n",
      "RangeIndex: 200 entries, 0 to 199\n",
      "Data columns (total 4 columns):\n",
      " #   Column     Non-Null Count  Dtype  \n",
      "---  ------     --------------  -----  \n",
      " 0   sales      200 non-null    float64\n",
      " 1   youtube    200 non-null    float64\n",
      " 2   facebook   200 non-null    float64\n",
      " 3   newspaper  200 non-null    float64\n",
      "dtypes: float64(4)\n",
      "memory usage: 6.4 KB\n"
     ]
    }
   ],
   "source": [
    "#returns the inofrmation on the dataset\n",
    "data.info()"
   ]
  },
  {
   "cell_type": "code",
   "execution_count": 7,
   "id": "8607307a",
   "metadata": {},
   "outputs": [],
   "source": [
    "import statsmodels.api as sm"
   ]
  },
  {
   "cell_type": "code",
   "execution_count": 8,
   "id": "1ec159c1",
   "metadata": {},
   "outputs": [],
   "source": [
    "#add a constant column to the data for the intercept term \n",
    "data_with_constant = sm.add_constant(data[['youtube','facebook','newspaper']])"
   ]
  },
  {
   "cell_type": "markdown",
   "id": "b4da38ab",
   "metadata": {},
   "source": [
    "### sm.add_constant is used for adding a constant as intercept value"
   ]
  },
  {
   "cell_type": "code",
   "execution_count": 10,
   "id": "1c4b8635",
   "metadata": {},
   "outputs": [
    {
     "name": "stdout",
     "output_type": "stream",
     "text": [
      "                            OLS Regression Results                            \n",
      "==============================================================================\n",
      "Dep. Variable:                  sales   R-squared:                       0.897\n",
      "Model:                            OLS   Adj. R-squared:                  0.896\n",
      "Method:                 Least Squares   F-statistic:                     571.0\n",
      "Date:                Fri, 21 Jul 2023   Prob (F-statistic):           1.40e-96\n",
      "Time:                        19:01:29   Log-Likelihood:                -422.53\n",
      "No. Observations:                 200   AIC:                             853.1\n",
      "Df Residuals:                     196   BIC:                             866.2\n",
      "Df Model:                           3                                         \n",
      "Covariance Type:            nonrobust                                         \n",
      "==============================================================================\n",
      "                 coef    std err          t      P>|t|      [0.025      0.975]\n",
      "------------------------------------------------------------------------------\n",
      "const          3.5212      0.374      9.411      0.000       2.783       4.259\n",
      "youtube        0.0458      0.001     32.833      0.000       0.043       0.049\n",
      "facebook       0.1886      0.009     21.912      0.000       0.172       0.206\n",
      "newspaper     -0.0010      0.006     -0.176      0.861      -0.013       0.011\n",
      "==============================================================================\n",
      "Omnibus:                       60.606   Durbin-Watson:                   2.083\n",
      "Prob(Omnibus):                  0.000   Jarque-Bera (JB):              152.128\n",
      "Skew:                          -1.331   Prob(JB):                     9.24e-34\n",
      "Kurtosis:                       6.343   Cond. No.                         545.\n",
      "==============================================================================\n",
      "\n",
      "Notes:\n",
      "[1] Standard Errors assume that the covariance matrix of the errors is correctly specified.\n"
     ]
    },
    {
     "data": {
      "image/png": "[encoded data removed]",
      "text/plain": [
       "<Figure size 640x480 with 1 Axes>"
      ]
     },
     "metadata": {},
     "output_type": "display_data"
    }
   ],
   "source": [
    "#fit the linear regression model\n",
    "model=sm.OLS(data['sales'],data_with_constant)\n",
    "results=model.fit()\n",
    "#print the model summary\n",
    "print(results.summary())\n",
    "import matplotlib.pyplot as plt\n",
    "plt.boxplot(data)\n",
    "\n",
    "# Set title and labels\n",
    "plt.title(\"Box Plot\")\n",
    "plt.xlabel(\"Data\")\n",
    "plt.ylabel(\"Values\")\n",
    "\n",
    "# Display the plot\n",
    "plt.show()"
   ]
  },
  {
   "cell_type": "code",
   "execution_count": 11,
   "id": "4956c33d",
   "metadata": {},
   "outputs": [
    {
     "data": {
      "text/html": [
       "<div>\n",
       "<style scoped>\n",
       "    .dataframe tbody tr th:only-of-type {\n",
       "        vertical-align: middle;\n",
       "    }\n",
       "\n",
       "    .dataframe tbody tr th {\n",
       "        vertical-align: top;\n",
       "    }\n",
       "\n",
       "    .dataframe thead th {\n",
       "        text-align: right;\n",
       "    }\n",
       "</style>\n",
       "<table border=\"1\" class=\"dataframe\">\n",
       "  <thead>\n",
       "    <tr style=\"text-align: right;\">\n",
       "      <th></th>\n",
       "      <th>sales</th>\n",
       "      <th>youtube</th>\n",
       "      <th>facebook</th>\n",
       "      <th>newspaper</th>\n",
       "    </tr>\n",
       "  </thead>\n",
       "  <tbody>\n",
       "    <tr>\n",
       "      <th>count</th>\n",
       "      <td>200.000000</td>\n",
       "      <td>200.000000</td>\n",
       "      <td>200.000000</td>\n",
       "      <td>200.000000</td>\n",
       "    </tr>\n",
       "    <tr>\n",
       "      <th>mean</th>\n",
       "      <td>16.827000</td>\n",
       "      <td>176.451000</td>\n",
       "      <td>27.921800</td>\n",
       "      <td>36.664800</td>\n",
       "    </tr>\n",
       "    <tr>\n",
       "      <th>std</th>\n",
       "      <td>6.260948</td>\n",
       "      <td>103.025084</td>\n",
       "      <td>17.808436</td>\n",
       "      <td>26.134345</td>\n",
       "    </tr>\n",
       "    <tr>\n",
       "      <th>min</th>\n",
       "      <td>1.920000</td>\n",
       "      <td>0.840000</td>\n",
       "      <td>0.360000</td>\n",
       "      <td>0.360000</td>\n",
       "    </tr>\n",
       "    <tr>\n",
       "      <th>25%</th>\n",
       "      <td>12.450000</td>\n",
       "      <td>89.250000</td>\n",
       "      <td>11.970000</td>\n",
       "      <td>15.300000</td>\n",
       "    </tr>\n",
       "    <tr>\n",
       "      <th>50%</th>\n",
       "      <td>15.480000</td>\n",
       "      <td>179.700000</td>\n",
       "      <td>27.480000</td>\n",
       "      <td>30.900000</td>\n",
       "    </tr>\n",
       "    <tr>\n",
       "      <th>75%</th>\n",
       "      <td>20.880000</td>\n",
       "      <td>262.590000</td>\n",
       "      <td>43.830000</td>\n",
       "      <td>54.120000</td>\n",
       "    </tr>\n",
       "    <tr>\n",
       "      <th>max</th>\n",
       "      <td>32.400000</td>\n",
       "      <td>355.680000</td>\n",
       "      <td>59.520000</td>\n",
       "      <td>136.800000</td>\n",
       "    </tr>\n",
       "  </tbody>\n",
       "</table>\n",
       "</div>"
      ],
      "text/plain": [
       "            sales     youtube    facebook   newspaper\n",
       "count  200.000000  200.000000  200.000000  200.000000\n",
       "mean    16.827000  176.451000   27.921800   36.664800\n",
       "std      6.260948  103.025084   17.808436   26.134345\n",
       "min      1.920000    0.840000    0.360000    0.360000\n",
       "25%     12.450000   89.250000   11.970000   15.300000\n",
       "50%     15.480000  179.700000   27.480000   30.900000\n",
       "75%     20.880000  262.590000   43.830000   54.120000\n",
       "max     32.400000  355.680000   59.520000  136.800000"
      ]
     },
     "execution_count": 11,
     "metadata": {},
     "output_type": "execute_result"
    }
   ],
   "source": [
    "data.describe()"
   ]
  },
  {
   "cell_type": "code",
   "execution_count": 15,
   "id": "c42c3143",
   "metadata": {},
   "outputs": [
    {
     "name": "stdout",
     "output_type": "stream",
     "text": [
      "                            OLS Regression Results                            \n",
      "==============================================================================\n",
      "Dep. Variable:                  sales   R-squared:                       0.897\n",
      "Model:                            OLS   Adj. R-squared:                  0.896\n",
      "Method:                 Least Squares   F-statistic:                     860.8\n",
      "Date:                Fri, 21 Jul 2023   Prob (F-statistic):           4.29e-98\n",
      "Time:                        21:09:32   Log-Likelihood:                -422.54\n",
      "No. Observations:                 200   AIC:                             851.1\n",
      "Df Residuals:                     197   BIC:                             861.0\n",
      "Df Model:                           2                                         \n",
      "Covariance Type:            nonrobust                                         \n",
      "==============================================================================\n",
      "                 coef    std err          t      P>|t|      [0.025      0.975]\n",
      "------------------------------------------------------------------------------\n",
      "const          3.5000      0.353      9.907      0.000       2.803       4.197\n",
      "youtube        0.0458      0.001     32.933      0.000       0.043       0.049\n",
      "facebook       0.1881      0.008     23.402      0.000       0.172       0.204\n",
      "==============================================================================\n",
      "Omnibus:                       60.216   Durbin-Watson:                   2.080\n",
      "Prob(Omnibus):                  0.000   Jarque-Bera (JB):              149.567\n",
      "Skew:                          -1.327   Prob(JB):                     3.33e-33\n",
      "Kurtosis:                       6.303   Cond. No.                         510.\n",
      "==============================================================================\n",
      "\n",
      "Notes:\n",
      "[1] Standard Errors assume that the covariance matrix of the errors is correctly specified.\n"
     ]
    }
   ],
   "source": [
    "#newspaper is not significant thus run model without the newspaper variable\n",
    "data_with_constant=sm.add_constant(data[['youtube','facebook']])\n",
    "\n",
    "#fit the linear regression model\n",
    "model=sm.OLS(data['sales'],data_with_constant)\n",
    "results=model.fit()\n",
    "#print the model summary\n",
    "print(results.summary())"
   ]
  },
  {
   "cell_type": "code",
   "execution_count": null,
   "id": "12ec3869",
   "metadata": {},
   "outputs": [],
   "source": [
    "data_with_constant=sm.add_constant(data[['youtube','newspaper']])\n",
    "\n",
    "#fit the linear regression model\n",
    "model=sm.OLS(data['sales'],data_with_constant)\n",
    "results=model.fit()\n",
    "#print the model summary\n",
    "print(results.summary())"
   ]
  },
  {
   "cell_type": "code",
   "execution_count": null,
   "id": "c2c0eb56",
   "metadata": {},
   "outputs": [],
   "source": [
    "data_with_constant=sm.add_constant(data[['youtube']])\n",
    "\n",
    "#fit the linear regression model\n",
    "model=sm.OLS(data['sales'],data_with_constant)\n",
    "results=model.fit()\n",
    "#print the model summary\n",
    "print(results.summary())"
   ]
  },
  {
   "cell_type": "code",
   "execution_count": null,
   "id": "241bfeb2",
   "metadata": {},
   "outputs": [],
   "source": [
    "data_with_constant=sm.add_constant(data[['facebook']])\n",
    "\n",
    "#fit the linear regression model\n",
    "model=sm.OLS(data['sales'],data_with_constant)\n",
    "results=model.fit()\n",
    "#print the model summary\n",
    "print(results.summary())"
   ]
  },
  {
   "cell_type": "code",
   "execution_count": null,
   "id": "0b9a7b38",
   "metadata": {},
   "outputs": [],
   "source": [
    "data_with_constant=sm.add_constant(data[['newspaper']])\n",
    "\n",
    "#fit the linear regression model\n",
    "model=sm.OLS(data['sales'],data_with_constant)\n",
    "results=model.fit()\n",
    "#print the model summary\n",
    "print(results.summary())"
   ]
  },
  {
   "cell_type": "code",
   "execution_count": null,
   "id": "ea43080d",
   "metadata": {},
   "outputs": [],
   "source": [
    "data_with_constant=sm.add_constant(data[['facebook','newspaper']])\n",
    "\n",
    "#fit the linear regression model\n",
    "model=sm.OLS(data['sales'],data_with_constant)\n",
    "results=model.fit()\n",
    "#print the model summary\n",
    "print(results.summary())"
   ]
  },
  {
   "cell_type": "code",
   "execution_count": 13,
   "id": "26af58b2",
   "metadata": {},
   "outputs": [
    {
     "data": {
      "text/html": [
       "<div>\n",
       "<style scoped>\n",
       "    .dataframe tbody tr th:only-of-type {\n",
       "        vertical-align: middle;\n",
       "    }\n",
       "\n",
       "    .dataframe tbody tr th {\n",
       "        vertical-align: top;\n",
       "    }\n",
       "\n",
       "    .dataframe thead th {\n",
       "        text-align: right;\n",
       "    }\n",
       "</style>\n",
       "<table border=\"1\" class=\"dataframe\">\n",
       "  <thead>\n",
       "    <tr style=\"text-align: right;\">\n",
       "      <th></th>\n",
       "      <th>age</th>\n",
       "      <th>experience</th>\n",
       "      <th>income</th>\n",
       "    </tr>\n",
       "  </thead>\n",
       "  <tbody>\n",
       "    <tr>\n",
       "      <th>0</th>\n",
       "      <td>25</td>\n",
       "      <td>1</td>\n",
       "      <td>30450</td>\n",
       "    </tr>\n",
       "    <tr>\n",
       "      <th>1</th>\n",
       "      <td>30</td>\n",
       "      <td>3</td>\n",
       "      <td>35670</td>\n",
       "    </tr>\n",
       "    <tr>\n",
       "      <th>2</th>\n",
       "      <td>47</td>\n",
       "      <td>2</td>\n",
       "      <td>31580</td>\n",
       "    </tr>\n",
       "    <tr>\n",
       "      <th>3</th>\n",
       "      <td>32</td>\n",
       "      <td>5</td>\n",
       "      <td>40130</td>\n",
       "    </tr>\n",
       "    <tr>\n",
       "      <th>4</th>\n",
       "      <td>43</td>\n",
       "      <td>10</td>\n",
       "      <td>47830</td>\n",
       "    </tr>\n",
       "  </tbody>\n",
       "</table>\n",
       "</div>"
      ],
      "text/plain": [
       "   age  experience  income\n",
       "0   25           1   30450\n",
       "1   30           3   35670\n",
       "2   47           2   31580\n",
       "3   32           5   40130\n",
       "4   43          10   47830"
      ]
     },
     "execution_count": 13,
     "metadata": {},
     "output_type": "execute_result"
    }
   ],
   "source": [
    "import pandas as pd\n",
    "df=pd.read_csv(\"C:\\\\Users\\\\prasanna\\\\OneDrive\\\\Desktop\\\\ML\\\\Lreg\\\\Lreg\\\\ML2_reg.csv\")\n",
    "df.head()"
   ]
  },
  {
   "cell_type": "code",
   "execution_count": 14,
   "id": "3783a397",
   "metadata": {},
   "outputs": [
    {
     "data": {
      "text/html": [
       "<div>\n",
       "<style scoped>\n",
       "    .dataframe tbody tr th:only-of-type {\n",
       "        vertical-align: middle;\n",
       "    }\n",
       "\n",
       "    .dataframe tbody tr th {\n",
       "        vertical-align: top;\n",
       "    }\n",
       "\n",
       "    .dataframe thead th {\n",
       "        text-align: right;\n",
       "    }\n",
       "</style>\n",
       "<table border=\"1\" class=\"dataframe\">\n",
       "  <thead>\n",
       "    <tr style=\"text-align: right;\">\n",
       "      <th></th>\n",
       "      <th>age</th>\n",
       "      <th>experience</th>\n",
       "      <th>income</th>\n",
       "    </tr>\n",
       "  </thead>\n",
       "  <tbody>\n",
       "    <tr>\n",
       "      <th>count</th>\n",
       "      <td>20.000000</td>\n",
       "      <td>20.000000</td>\n",
       "      <td>20.000000</td>\n",
       "    </tr>\n",
       "    <tr>\n",
       "      <th>mean</th>\n",
       "      <td>39.650000</td>\n",
       "      <td>6.200000</td>\n",
       "      <td>40735.500000</td>\n",
       "    </tr>\n",
       "    <tr>\n",
       "      <th>std</th>\n",
       "      <td>10.027725</td>\n",
       "      <td>4.124382</td>\n",
       "      <td>8439.797625</td>\n",
       "    </tr>\n",
       "    <tr>\n",
       "      <th>min</th>\n",
       "      <td>23.000000</td>\n",
       "      <td>1.000000</td>\n",
       "      <td>27840.000000</td>\n",
       "    </tr>\n",
       "    <tr>\n",
       "      <th>25%</th>\n",
       "      <td>31.500000</td>\n",
       "      <td>3.750000</td>\n",
       "      <td>35452.500000</td>\n",
       "    </tr>\n",
       "    <tr>\n",
       "      <th>50%</th>\n",
       "      <td>40.000000</td>\n",
       "      <td>5.000000</td>\n",
       "      <td>40190.000000</td>\n",
       "    </tr>\n",
       "    <tr>\n",
       "      <th>75%</th>\n",
       "      <td>47.000000</td>\n",
       "      <td>9.000000</td>\n",
       "      <td>45390.000000</td>\n",
       "    </tr>\n",
       "    <tr>\n",
       "      <th>max</th>\n",
       "      <td>58.000000</td>\n",
       "      <td>17.000000</td>\n",
       "      <td>63600.000000</td>\n",
       "    </tr>\n",
       "  </tbody>\n",
       "</table>\n",
       "</div>"
      ],
      "text/plain": [
       "             age  experience        income\n",
       "count  20.000000   20.000000     20.000000\n",
       "mean   39.650000    6.200000  40735.500000\n",
       "std    10.027725    4.124382   8439.797625\n",
       "min    23.000000    1.000000  27840.000000\n",
       "25%    31.500000    3.750000  35452.500000\n",
       "50%    40.000000    5.000000  40190.000000\n",
       "75%    47.000000    9.000000  45390.000000\n",
       "max    58.000000   17.000000  63600.000000"
      ]
     },
     "execution_count": 14,
     "metadata": {},
     "output_type": "execute_result"
    }
   ],
   "source": [
    "df.describe()"
   ]
  },
  {
   "cell_type": "code",
   "execution_count": 16,
   "id": "e1180e43",
   "metadata": {},
   "outputs": [],
   "source": [
    "import statsmodels.api as sm"
   ]
  },
  {
   "cell_type": "code",
   "execution_count": 17,
   "id": "bd31c4e1",
   "metadata": {},
   "outputs": [],
   "source": [
    "df_with_constant = sm.add_constant(df[['age','experience']])"
   ]
  },
  {
   "cell_type": "code",
   "execution_count": 18,
   "id": "040ec3d7",
   "metadata": {},
   "outputs": [
    {
     "name": "stdout",
     "output_type": "stream",
     "text": [
      "                            OLS Regression Results                            \n",
      "==============================================================================\n",
      "Dep. Variable:                 income   R-squared:                       0.977\n",
      "Model:                            OLS   Adj. R-squared:                  0.975\n",
      "Method:                 Least Squares   F-statistic:                     366.5\n",
      "Date:                Fri, 21 Jul 2023   Prob (F-statistic):           1.05e-14\n",
      "Time:                        21:13:23   Log-Likelihood:                -170.81\n",
      "No. Observations:                  20   AIC:                             347.6\n",
      "Df Residuals:                      17   BIC:                             350.6\n",
      "Df Model:                           2                                         \n",
      "Covariance Type:            nonrobust                                         \n",
      "==============================================================================\n",
      "                 coef    std err          t      P>|t|      [0.025      0.975]\n",
      "------------------------------------------------------------------------------\n",
      "const       3.126e+04   1306.437     23.929      0.000    2.85e+04     3.4e+04\n",
      "age          -99.1954     38.979     -2.545      0.021    -181.433     -16.958\n",
      "experience  2162.4042     94.770     22.817      0.000    1962.457    2362.351\n",
      "==============================================================================\n",
      "Omnibus:                        0.799   Durbin-Watson:                   1.628\n",
      "Prob(Omnibus):                  0.671   Jarque-Bera (JB):                0.695\n",
      "Skew:                          -0.404   Prob(JB):                        0.707\n",
      "Kurtosis:                       2.575   Cond. No.                         180.\n",
      "==============================================================================\n",
      "\n",
      "Notes:\n",
      "[1] Standard Errors assume that the covariance matrix of the errors is correctly specified.\n"
     ]
    }
   ],
   "source": [
    "#fit the linear regression model\n",
    "model=sm.OLS(df['income'],df_with_constant)\n",
    "results=model.fit()\n",
    "#print the model summary\n",
    "print(results.summary())"
   ]
  },
  {
   "cell_type": "code",
   "execution_count": 19,
   "id": "e180ce5f",
   "metadata": {},
   "outputs": [],
   "source": [
    "import pandas as pd\n",
    "df1=pd.read_csv(\"C:\\\\Users\\\\prasanna\\\\OneDrive\\\\Desktop\\\\ML\\\\Lreg\\\\Lreg\\\\ML2_reg.csv\")"
   ]
  },
  {
   "cell_type": "code",
   "execution_count": 20,
   "id": "b4b5c810",
   "metadata": {},
   "outputs": [
    {
     "data": {
      "text/html": [
       "<div>\n",
       "<style scoped>\n",
       "    .dataframe tbody tr th:only-of-type {\n",
       "        vertical-align: middle;\n",
       "    }\n",
       "\n",
       "    .dataframe tbody tr th {\n",
       "        vertical-align: top;\n",
       "    }\n",
       "\n",
       "    .dataframe thead th {\n",
       "        text-align: right;\n",
       "    }\n",
       "</style>\n",
       "<table border=\"1\" class=\"dataframe\">\n",
       "  <thead>\n",
       "    <tr style=\"text-align: right;\">\n",
       "      <th></th>\n",
       "      <th>age</th>\n",
       "      <th>experience</th>\n",
       "      <th>income</th>\n",
       "    </tr>\n",
       "  </thead>\n",
       "  <tbody>\n",
       "    <tr>\n",
       "      <th>0</th>\n",
       "      <td>25</td>\n",
       "      <td>1</td>\n",
       "      <td>30450</td>\n",
       "    </tr>\n",
       "    <tr>\n",
       "      <th>1</th>\n",
       "      <td>30</td>\n",
       "      <td>3</td>\n",
       "      <td>35670</td>\n",
       "    </tr>\n",
       "    <tr>\n",
       "      <th>2</th>\n",
       "      <td>47</td>\n",
       "      <td>2</td>\n",
       "      <td>31580</td>\n",
       "    </tr>\n",
       "    <tr>\n",
       "      <th>3</th>\n",
       "      <td>32</td>\n",
       "      <td>5</td>\n",
       "      <td>40130</td>\n",
       "    </tr>\n",
       "    <tr>\n",
       "      <th>4</th>\n",
       "      <td>43</td>\n",
       "      <td>10</td>\n",
       "      <td>47830</td>\n",
       "    </tr>\n",
       "  </tbody>\n",
       "</table>\n",
       "</div>"
      ],
      "text/plain": [
       "   age  experience  income\n",
       "0   25           1   30450\n",
       "1   30           3   35670\n",
       "2   47           2   31580\n",
       "3   32           5   40130\n",
       "4   43          10   47830"
      ]
     },
     "execution_count": 20,
     "metadata": {},
     "output_type": "execute_result"
    }
   ],
   "source": [
    "df1.head()"
   ]
  },
  {
   "cell_type": "code",
   "execution_count": 21,
   "id": "7a9ba292",
   "metadata": {},
   "outputs": [],
   "source": [
    "import statsmodels.api as sm"
   ]
  },
  {
   "cell_type": "code",
   "execution_count": 22,
   "id": "3e1dc3c6",
   "metadata": {},
   "outputs": [],
   "source": [
    "df1_with_constant = sm.add_constant(df1[['age','experience']])"
   ]
  },
  {
   "cell_type": "code",
   "execution_count": 23,
   "id": "656e52ea",
   "metadata": {},
   "outputs": [
    {
     "name": "stdout",
     "output_type": "stream",
     "text": [
      "                            OLS Regression Results                            \n",
      "==============================================================================\n",
      "Dep. Variable:                 income   R-squared:                       0.977\n",
      "Model:                            OLS   Adj. R-squared:                  0.975\n",
      "Method:                 Least Squares   F-statistic:                     366.5\n",
      "Date:                Fri, 21 Jul 2023   Prob (F-statistic):           1.05e-14\n",
      "Time:                        21:14:09   Log-Likelihood:                -170.81\n",
      "No. Observations:                  20   AIC:                             347.6\n",
      "Df Residuals:                      17   BIC:                             350.6\n",
      "Df Model:                           2                                         \n",
      "Covariance Type:            nonrobust                                         \n",
      "==============================================================================\n",
      "                 coef    std err          t      P>|t|      [0.025      0.975]\n",
      "------------------------------------------------------------------------------\n",
      "const       3.126e+04   1306.437     23.929      0.000    2.85e+04     3.4e+04\n",
      "age          -99.1954     38.979     -2.545      0.021    -181.433     -16.958\n",
      "experience  2162.4042     94.770     22.817      0.000    1962.457    2362.351\n",
      "==============================================================================\n",
      "Omnibus:                        0.799   Durbin-Watson:                   1.628\n",
      "Prob(Omnibus):                  0.671   Jarque-Bera (JB):                0.695\n",
      "Skew:                          -0.404   Prob(JB):                        0.707\n",
      "Kurtosis:                       2.575   Cond. No.                         180.\n",
      "==============================================================================\n",
      "\n",
      "Notes:\n",
      "[1] Standard Errors assume that the covariance matrix of the errors is correctly specified.\n"
     ]
    }
   ],
   "source": [
    "#fit the linear regression model\n",
    "model=sm.OLS(df1['income'],df1_with_constant)\n",
    "results=model.fit()\n",
    "#print the model summary\n",
    "print(results.summary())"
   ]
  },
  {
   "cell_type": "code",
   "execution_count": 24,
   "id": "67d23c86",
   "metadata": {},
   "outputs": [],
   "source": [
    "df1_with_constant = sm.add_constant(df1[['age']])"
   ]
  },
  {
   "cell_type": "code",
   "execution_count": 25,
   "id": "efa724a5",
   "metadata": {},
   "outputs": [
    {
     "name": "stdout",
     "output_type": "stream",
     "text": [
      "                            OLS Regression Results                            \n",
      "==============================================================================\n",
      "Dep. Variable:                 income   R-squared:                       0.283\n",
      "Model:                            OLS   Adj. R-squared:                  0.243\n",
      "Method:                 Least Squares   F-statistic:                     7.113\n",
      "Date:                Fri, 21 Jul 2023   Prob (F-statistic):             0.0157\n",
      "Time:                        21:14:23   Log-Likelihood:                -205.35\n",
      "No. Observations:                  20   AIC:                             414.7\n",
      "Df Residuals:                      18   BIC:                             416.7\n",
      "Df Model:                           1                                         \n",
      "Covariance Type:            nonrobust                                         \n",
      "==============================================================================\n",
      "                 coef    std err          t      P>|t|      [0.025      0.975]\n",
      "------------------------------------------------------------------------------\n",
      "const       2.298e+04   6858.549      3.350      0.004    8565.884    3.74e+04\n",
      "age          447.9278    167.950      2.667      0.016      95.078     800.778\n",
      "==============================================================================\n",
      "Omnibus:                        0.016   Durbin-Watson:                   2.294\n",
      "Prob(Omnibus):                  0.992   Jarque-Bera (JB):                0.223\n",
      "Skew:                          -0.006   Prob(JB):                        0.894\n",
      "Kurtosis:                       2.483   Cond. No.                         171.\n",
      "==============================================================================\n",
      "\n",
      "Notes:\n",
      "[1] Standard Errors assume that the covariance matrix of the errors is correctly specified.\n"
     ]
    }
   ],
   "source": [
    "#fit the linear regression model\n",
    "model=sm.OLS(df1['income'],df1_with_constant)\n",
    "results=model.fit()\n",
    "#print the model summary\n",
    "print(results.summary())"
   ]
  },
  {
   "cell_type": "code",
   "execution_count": 26,
   "id": "f2709c57",
   "metadata": {},
   "outputs": [],
   "source": [
    "df1_with_constant = sm.add_constant(df1[['experience']])"
   ]
  },
  {
   "cell_type": "code",
   "execution_count": 27,
   "id": "33e7f6f0",
   "metadata": {},
   "outputs": [
    {
     "name": "stdout",
     "output_type": "stream",
     "text": [
      "                            OLS Regression Results                            \n",
      "==============================================================================\n",
      "Dep. Variable:                 income   R-squared:                       0.969\n",
      "Model:                            OLS   Adj. R-squared:                  0.967\n",
      "Method:                 Least Squares   F-statistic:                     557.1\n",
      "Date:                Fri, 21 Jul 2023   Prob (F-statistic):           5.42e-15\n",
      "Time:                        21:14:31   Log-Likelihood:                -174.04\n",
      "No. Observations:                  20   AIC:                             352.1\n",
      "Df Residuals:                      18   BIC:                             354.1\n",
      "Df Model:                           1                                         \n",
      "Covariance Type:            nonrobust                                         \n",
      "==============================================================================\n",
      "                 coef    std err          t      P>|t|      [0.025      0.975]\n",
      "------------------------------------------------------------------------------\n",
      "const       2.825e+04    630.509     44.803      0.000    2.69e+04    2.96e+04\n",
      "experience  2014.0408     85.329     23.603      0.000    1834.772    2193.310\n",
      "==============================================================================\n",
      "Omnibus:                        0.757   Durbin-Watson:                   1.744\n",
      "Prob(Omnibus):                  0.685   Jarque-Bera (JB):                0.710\n",
      "Skew:                           0.171   Prob(JB):                        0.701\n",
      "Kurtosis:                       2.143   Cond. No.                         13.8\n",
      "==============================================================================\n",
      "\n",
      "Notes:\n",
      "[1] Standard Errors assume that the covariance matrix of the errors is correctly specified.\n"
     ]
    }
   ],
   "source": [
    "#fit the linear regression model\n",
    "model=sm.OLS(df1['income'],df1_with_constant)\n",
    "results=model.fit()\n",
    "#print the model summary\n",
    "print(results.summary())"
   ]
  },
  {
   "cell_type": "code",
   "execution_count": null,
   "id": "02ac2001",
   "metadata": {},
   "outputs": [],
   "source": []
  }
 ],
 "metadata": {
  "kernelspec": {
   "display_name": "Python 3 (ipykernel)",
   "language": "python",
   "name": "python3"
  },
  "language_info": {
   "codemirror_mode": {
    "name": "ipython",
    "version": 3
   },
   "file_extension": ".py",
   "mimetype": "text/x-python",
   "name": "python",
   "nbconvert_exporter": "python",
   "pygments_lexer": "ipython3",
   "version": "3.9.13"
  }
 },
 "nbformat": 4,
 "nbformat_minor": 5
}
